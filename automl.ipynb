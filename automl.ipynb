{
  "cells": [
    {
      "cell_type": "markdown",
      "source": [
        "# Automated ML\n",
        "\n",
        "TODO: Import Dependencies. In the cell below, import all the dependencies that you will need to complete the project."
      ],
      "metadata": {}
    },
    {
      "cell_type": "code",
      "source": [
        "import logging\n",
        "import os\n",
        "import csv\n",
        "\n",
        "from matplotlib import pyplot as plt\n",
        "import numpy as np\n",
        "import pandas as pd\n",
        "from sklearn import datasets\n",
        "import pkg_resources\n",
        "\n",
        "import azureml.core\n",
        "from azureml.core.experiment import Experiment\n",
        "from azureml.core.workspace import Workspace\n",
        "from azureml.train.automl import AutoMLConfig\n",
        "from azureml.core.dataset import Dataset\n",
        "from azureml.widgets import RunDetails\n",
        "\n",
        "from azureml.pipeline.steps import AutoMLStep\n",
        "\n",
        "# Check core SDK version number\n",
        "print(\"SDK version:\", azureml.core.VERSION)"
      ],
      "outputs": [
        {
          "output_type": "stream",
          "name": "stdout",
          "text": [
            "SDK version: 1.24.0\n"
          ]
        }
      ],
      "execution_count": 1,
      "metadata": {
        "gather": {
          "logged": 1616748953684
        },
        "jupyter": {
          "outputs_hidden": false,
          "source_hidden": false
        },
        "nteract": {
          "transient": {
            "deleting": false
          }
        }
      }
    },
    {
      "cell_type": "markdown",
      "source": [
        "## Dataset\n",
        "\n",
        "### Overview\n",
        "TODO: In this markdown cell, give an overview of the dataset you are using. Also mention the task you will be performing.\n",
        "\n",
        "\n",
        "TODO: Get data. In the cell below, write code to access the data you will be using in this project. Remember that the dataset needs to be external."
      ],
      "metadata": {}
    },
    {
      "cell_type": "code",
      "source": [
        "ws = Workspace.from_config()\n",
        "\n",
        "# choose a name for experiment\n",
        "experiment_name = 'breast-cancer-run'\n",
        "project_folder = './capstone-project'\n",
        "\n",
        "experiment=Experiment(ws, experiment_name)\n",
        "experiment"
      ],
      "outputs": [
        {
          "output_type": "execute_result",
          "execution_count": 2,
          "data": {
            "text/plain": "Experiment(Name: breast-cancer-run,\nWorkspace: quick-starts-ws-141384)",
            "text/html": "<table style=\"width:100%\"><tr><th>Name</th><th>Workspace</th><th>Report Page</th><th>Docs Page</th></tr><tr><td>breast-cancer-run</td><td>quick-starts-ws-141384</td><td><a href=\"https://ml.azure.com/experiments/breast-cancer-run?wsid=/subscriptions/976ee174-3882-4721-b90a-b5fef6b72f24/resourcegroups/aml-quickstarts-141384/workspaces/quick-starts-ws-141384\" target=\"_blank\" rel=\"noopener\">Link to Azure Machine Learning studio</a></td><td><a href=\"https://docs.microsoft.com/en-us/python/api/azureml-core/azureml.core.experiment.Experiment?view=azure-ml-py\" target=\"_blank\" rel=\"noopener\">Link to Documentation</a></td></tr></table>"
          },
          "metadata": {}
        }
      ],
      "execution_count": 2,
      "metadata": {
        "gather": {
          "logged": 1616748959471
        },
        "jupyter": {
          "outputs_hidden": false,
          "source_hidden": false
        },
        "nteract": {
          "transient": {
            "deleting": false
          }
        }
      }
    },
    {
      "cell_type": "code",
      "source": [
        "from azureml.core.compute import AmlCompute\n",
        "from azureml.core.compute import ComputeTarget\n",
        "from azureml.core.compute_target import ComputeTargetException\n",
        "\n",
        "# NOTE: update the cluster name to match the existing cluster\n",
        "# Choose a name for your CPU cluster\n",
        "amlcompute_cluster_name = \"azurend-project\"\n",
        "\n",
        "# Verify that cluster does not exist already\n",
        "try:\n",
        "    compute_target = ComputeTarget(workspace=ws, name=amlcompute_cluster_name)\n",
        "    print('Found existing cluster, use it.')\n",
        "except ComputeTargetException:\n",
        "    compute_config = AmlCompute.provisioning_configuration(vm_size='STANDARD_D2_V2',# for GPU, use \"STANDARD_NC6\"\n",
        "                                                           #vm_priority = 'lowpriority', # optional\n",
        "                                                           max_nodes=4)\n",
        "    compute_target = ComputeTarget.create(ws, amlcompute_cluster_name, compute_config)\n",
        "\n",
        "compute_target.wait_for_completion(show_output=True, min_node_count = 1, timeout_in_minutes = 5)\n",
        "# For a more detailed view of current AmlCompute status, use get_status()."
      ],
      "outputs": [
        {
          "output_type": "stream",
          "name": "stdout",
          "text": [
            "Found existing cluster, use it.\n",
            "Succeeded......"
          ]
        }
      ],
      "execution_count": 3,
      "metadata": {
        "collapsed": true,
        "jupyter": {
          "source_hidden": false,
          "outputs_hidden": false
        },
        "nteract": {
          "transient": {
            "deleting": false
          }
        },
        "gather": {
          "logged": 1616741821372
        }
      }
    },
    {
      "cell_type": "code",
      "source": [
        "found = False\n",
        "key = \"breast-cancer\"\n",
        "description_text = \"Wisconsin Breast Cancer Dataset\"\n",
        "\n",
        "if key in ws.datasets.keys(): \n",
        "        found = True\n",
        "        dataset = ws.datasets[key] \n",
        "\n",
        "if not found:\n",
        "        # Create AML Dataset and register it into Workspace\n",
        "        example_data = 'https://automlsamplenotebookdata.blob.core.windows.net/automl-sample-notebook-data/bankmarketing_train.csv'\n",
        "        dataset = Dataset.Tabular.from_delimited_files(example_data)        \n",
        "        #Register Dataset in Workspace\n",
        "        dataset = dataset.register(workspace=ws,\n",
        "                                   name=key,\n",
        "                                   description=description_text)"
      ],
      "outputs": [],
      "execution_count": 4,
      "metadata": {
        "collapsed": true,
        "jupyter": {
          "source_hidden": false,
          "outputs_hidden": false
        },
        "nteract": {
          "transient": {
            "deleting": false
          }
        },
        "gather": {
          "logged": 1616741832333
        }
      }
    },
    {
      "cell_type": "code",
      "source": [
        "df = dataset.to_pandas_dataframe()\n",
        "df.head(10)"
      ],
      "outputs": [],
      "execution_count": null,
      "metadata": {
        "collapsed": true,
        "jupyter": {
          "source_hidden": false,
          "outputs_hidden": false
        },
        "nteract": {
          "transient": {
            "deleting": false
          }
        },
        "gather": {
          "logged": 1616741838931
        }
      }
    },
    {
      "cell_type": "code",
      "source": [
        "df.describe()"
      ],
      "outputs": [],
      "execution_count": null,
      "metadata": {
        "collapsed": true,
        "jupyter": {
          "source_hidden": false,
          "outputs_hidden": false
        },
        "nteract": {
          "transient": {
            "deleting": false
          }
        },
        "gather": {
          "logged": 1616741839416
        }
      }
    },
    {
      "cell_type": "markdown",
      "source": [
        "## AutoML Configuration\n",
        "\n",
        "TODO: Explain why you chose the automl settings and cofiguration you used below."
      ],
      "metadata": {}
    },
    {
      "cell_type": "code",
      "source": [
        "# TODO: Put your automl settings here\n",
        "automl_settings = {\n",
        "    \"experiment_timeout_minutes\": 20,\n",
        "    \"max_concurrent_iterations\": 5,\n",
        "    \"primary_metric\" : 'AUC_weighted'\n",
        "}\n",
        "\n",
        "# TODO: Put your automl config here\n",
        "automl_config = AutoMLConfig(compute_target=compute_target,\n",
        "                             task = \"classification\",\n",
        "                             training_data=dataset,\n",
        "                             label_column_name=\"diagnosis\",   \n",
        "                             path = project_folder,\n",
        "                             enable_early_stopping= True,\n",
        "                             featurization= 'auto',\n",
        "                             debug_log = \"automl_errors.log\",\n",
        "                             **automl_settings\n",
        "                            )\n"
      ],
      "outputs": [],
      "execution_count": null,
      "metadata": {
        "gather": {
          "logged": 1616741845526
        },
        "jupyter": {
          "outputs_hidden": false,
          "source_hidden": false
        },
        "nteract": {
          "transient": {
            "deleting": false
          }
        }
      }
    },
    {
      "cell_type": "code",
      "source": [
        "# TODO: Submit your experiment\n",
        "remote_run = experiment.submit(automl_config, show_output=True)\n",
        "remote_run.wait_for_completion(show_output=True)"
      ],
      "outputs": [
        {
          "output_type": "stream",
          "name": "stdout",
          "text": [
            "Running on remote.\n",
            "No run_configuration provided, running on azurend-project with default configuration\n",
            "Running on remote compute: azurend-project\n",
            "Parent Run ID: AutoML_7d9aec74-330e-4112-b25c-42a09ee2a3d2\n",
            "\n",
            "Current status: FeaturesGeneration. Generating features for the dataset.\n",
            "Current status: ModelSelection. Beginning model selection.\n",
            "         6   StandardScalerWrapper RandomForest             0:00:45       0.9888    0.9938\n",
            "         2   MinMaxScaler RandomForest                      0:03:05       0.9875    0.9938\n",
            "         4   MinMaxScaler RandomForest                      0:03:13       0.9915    0.9938\n",
            "         7   MinMaxScaler ExtremeRandomTrees                0:00:47       0.9876    0.9938\n",
            "         1   MaxAbsScaler XGBoostClassifier                 0:03:29       0.9944    0.9944\n",
            "         8   MinMaxScaler ExtremeRandomTrees                0:00:42       0.9889    0.9944\n",
            "        11   RobustScaler ExtremeRandomTrees                0:00:44       0.9869    0.9944\n",
            "         9   SparseNormalizer KNN                           0:00:41       0.9622    0.9944\n",
            "        10   MinMaxScaler ExtremeRandomTrees                0:00:42       0.9910    0.9944\n",
            "        12   StandardScalerWrapper RandomForest             0:00:38       0.9877    0.9944\n",
            "        13   StandardScalerWrapper SGD                      0:00:38       0.9958    0.9958\n",
            "        14   RobustScaler RandomForest                      0:00:37       0.9850    0.9958\n",
            "        15   StandardScalerWrapper KNN                      0:00:42       0.9058    0.9958\n",
            "        16   MinMaxScaler RandomForest                      0:00:42       0.9874    0.9958\n",
            "        17   MinMaxScaler ExtremeRandomTrees                0:00:37       0.9864    0.9958\n",
            "        18   MaxAbsScaler RandomForest                      0:00:55       0.9868    0.9958\n",
            "        19   StandardScalerWrapper XGBoostClassifier        0:00:41       0.9899    0.9958\n",
            "        20   MaxAbsScaler RandomForest                      0:00:56       0.9894    0.9958\n",
            "        21   MaxAbsScaler ExtremeRandomTrees                0:00:56       0.9872    0.9958\n",
            "        22   MaxAbsScaler ExtremeRandomTrees                0:00:54       0.9899    0.9958\n",
            "        23   RobustScaler SVM                               0:01:03       0.9947    0.9958\n",
            "        24   StandardScalerWrapper LogisticRegression       0:00:54       0.9953    0.9958\n",
            "        25   PCA SGD                                        0:01:16       0.5258    0.9958\n",
            "        26   StandardScalerWrapper RandomForest             0:00:56       0.9912    0.9958\n",
            "        27   MaxAbsScaler LightGBM                          0:01:16       0.9913    0.9958\n",
            "        29   StandardScalerWrapper XGBoostClassifier        0:00:44       0.9917    0.9958\n",
            "        30   StandardScalerWrapper SGD                      0:00:50       0.5185    0.9958\n",
            "        31   MaxAbsScaler LightGBM                          0:00:46       0.9915    0.9958\n",
            "        32   StandardScalerWrapper LogisticRegression       0:00:54       0.9952    0.9958\n",
            "        33   StandardScalerWrapper LogisticRegression       0:00:50       0.9841    0.9958\n",
            "        34   RobustScaler SVM                               0:00:46       0.9965    0.9965\n",
            "        37   StandardScalerWrapper XGBoostClassifier        0:00:53       0.9929    0.9965\n",
            "        38   SparseNormalizer XGBoostClassifier             0:00:50       0.9833    0.9965\n",
            "        39   StandardScalerWrapper XGBoostClassifier        0:00:50          nan    0.9965\n",
            "        40   StandardScalerWrapper SVM                      0:00:50       0.4452    0.9965\n",
            "        41   MaxAbsScaler GradientBoosting                  0:00:45       0.9946    0.9965\n",
            "        42   StandardScalerWrapper XGBoostClassifier        0:00:53       0.9924    0.9965\n",
            "        44                                                  0:00:55          nan    0.9965\n",
            "ERROR: {\n",
            "    \"additional_properties\": {},\n",
            "    \"error\": {\n",
            "        \"additional_properties\": {\n",
            "            \"debugInfo\": null\n",
            "        },\n",
            "        \"code\": \"UserError\",\n",
            "        \"severity\": null,\n",
            "        \"message\": \"Experiment timeout reached, please consider increasing your experiment timeout.\",\n",
            "        \"message_format\": \"Experiment timeout reached, please consider increasing your experiment timeout.\",\n",
            "        \"message_parameters\": {},\n",
            "        \"reference_code\": null,\n",
            "        \"details_uri\": null,\n",
            "        \"target\": null,\n",
            "        \"details\": [],\n",
            "        \"inner_error\": {\n",
            "            \"additional_properties\": {},\n",
            "            \"code\": \"ResourceExhausted\",\n",
            "            \"inner_error\": {\n",
            "                \"additional_properties\": {},\n",
            "                \"code\": \"Timeout\",\n",
            "                \"inner_error\": {\n",
            "                    \"additional_properties\": {},\n",
            "                    \"code\": \"ExperimentTimeoutForIterations\",\n",
            "                    \"inner_error\": null\n",
            "                }\n",
            "            }\n",
            "        }\n",
            "    },\n",
            "    \"correlation\": null,\n",
            "    \"environment\": null,\n",
            "    \"location\": null,\n",
            "    \"time\": {},\n",
            "    \"component_name\": null\n",
            "}\n"
          ]
        }
      ],
      "execution_count": 9,
      "metadata": {
        "gather": {
          "logged": 1616652258542
        },
        "jupyter": {
          "outputs_hidden": false,
          "source_hidden": false
        },
        "nteract": {
          "transient": {
            "deleting": false
          }
        }
      }
    },
    {
      "cell_type": "markdown",
      "source": [
        "## Run Details\n",
        "\n",
        "OPTIONAL: Write about the different models trained and their performance. Why do you think some models did better than others?\n",
        "\n",
        "TODO: In the cell below, use the `RunDetails` widget to show the different experiments."
      ],
      "metadata": {}
    },
    {
      "cell_type": "code",
      "source": [
        "RunDetails(remote_run).show()"
      ],
      "outputs": [
        {
          "output_type": "display_data",
          "data": {
            "text/plain": "_AutoMLWidget(widget_settings={'childWidgetDisplay': 'popup', 'send_telemetry': False, 'log_level': 'INFO', 's…",
            "application/vnd.jupyter.widget-view+json": {
              "version_major": 2,
              "version_minor": 0,
              "model_id": "f75a336b57d64a6fb9f53ecc6b7c0831"
            }
          },
          "metadata": {}
        },
        {
          "output_type": "display_data",
          "data": {
            "application/aml.mini.widget.v1": "{\"status\": \"Completed\", \"workbench_run_details_uri\": \"https://ml.azure.com/experiments/breast-cancer-run/runs/AutoML_7d9aec74-330e-4112-b25c-42a09ee2a3d2?wsid=/subscriptions/976ee174-3882-4721-b90a-b5fef6b72f24/resourcegroups/aml-quickstarts-141384/workspaces/quick-starts-ws-141384\", \"run_id\": \"AutoML_7d9aec74-330e-4112-b25c-42a09ee2a3d2\", \"run_properties\": {\"run_id\": \"AutoML_7d9aec74-330e-4112-b25c-42a09ee2a3d2\", \"created_utc\": \"2021-03-26T06:59:37.18372Z\", \"properties\": {\"num_iterations\": \"1000\", \"training_type\": \"TrainFull\", \"acquisition_function\": \"EI\", \"primary_metric\": \"AUC_weighted\", \"train_split\": \"0\", \"acquisition_parameter\": \"0\", \"num_cross_validation\": null, \"target\": \"azurend-project\", \"AMLSettingsJsonString\": \"{\\\"path\\\":null,\\\"name\\\":\\\"breast-cancer-run\\\",\\\"subscription_id\\\":\\\"976ee174-3882-4721-b90a-b5fef6b72f24\\\",\\\"resource_group\\\":\\\"aml-quickstarts-141384\\\",\\\"workspace_name\\\":\\\"quick-starts-ws-141384\\\",\\\"region\\\":\\\"southcentralus\\\",\\\"compute_target\\\":\\\"azurend-project\\\",\\\"spark_service\\\":null,\\\"azure_service\\\":\\\"remote\\\",\\\"many_models\\\":false,\\\"pipeline_fetch_max_batch_size\\\":1,\\\"enable_batch_run\\\":false,\\\"iterations\\\":1000,\\\"primary_metric\\\":\\\"AUC_weighted\\\",\\\"task_type\\\":\\\"classification\\\",\\\"data_script\\\":null,\\\"validation_size\\\":0.0,\\\"n_cross_validations\\\":null,\\\"y_min\\\":null,\\\"y_max\\\":null,\\\"num_classes\\\":null,\\\"featurization\\\":\\\"auto\\\",\\\"_ignore_package_version_incompatibilities\\\":false,\\\"is_timeseries\\\":false,\\\"max_cores_per_iteration\\\":1,\\\"max_concurrent_iterations\\\":5,\\\"iteration_timeout_minutes\\\":null,\\\"mem_in_mb\\\":null,\\\"enforce_time_on_windows\\\":false,\\\"experiment_timeout_minutes\\\":20,\\\"experiment_exit_score\\\":null,\\\"whitelist_models\\\":null,\\\"blacklist_algos\\\":[\\\"TensorFlowLinearClassifier\\\",\\\"TensorFlowDNN\\\"],\\\"supported_models\\\":[\\\"BernoulliNaiveBayes\\\",\\\"LogisticRegression\\\",\\\"DecisionTree\\\",\\\"KNN\\\",\\\"TensorFlowLinearClassifier\\\",\\\"MultinomialNaiveBayes\\\",\\\"RandomForest\\\",\\\"AveragedPerceptronClassifier\\\",\\\"ExtremeRandomTrees\\\",\\\"LinearSVM\\\",\\\"SGD\\\",\\\"LightGBM\\\",\\\"GradientBoosting\\\",\\\"TensorFlowDNN\\\",\\\"XGBoostClassifier\\\",\\\"SVM\\\"],\\\"private_models\\\":[],\\\"auto_blacklist\\\":true,\\\"blacklist_samples_reached\\\":false,\\\"exclude_nan_labels\\\":true,\\\"verbosity\\\":20,\\\"_debug_log\\\":\\\"azureml_automl.log\\\",\\\"show_warnings\\\":false,\\\"model_explainability\\\":true,\\\"service_url\\\":null,\\\"sdk_url\\\":null,\\\"sdk_packages\\\":null,\\\"enable_onnx_compatible_models\\\":false,\\\"enable_split_onnx_featurizer_estimator_models\\\":false,\\\"vm_type\\\":\\\"STANDARD_D2_V2\\\",\\\"telemetry_verbosity\\\":20,\\\"send_telemetry\\\":true,\\\"enable_dnn\\\":false,\\\"scenario\\\":\\\"SDK-1.13.0\\\",\\\"environment_label\\\":null,\\\"save_mlflow\\\":false,\\\"force_text_dnn\\\":false,\\\"enable_feature_sweeping\\\":true,\\\"enable_early_stopping\\\":true,\\\"early_stopping_n_iters\\\":10,\\\"metrics\\\":null,\\\"enable_metric_confidence\\\":false,\\\"enable_ensembling\\\":true,\\\"enable_stack_ensembling\\\":true,\\\"ensemble_iterations\\\":15,\\\"enable_tf\\\":false,\\\"enable_subsampling\\\":null,\\\"subsample_seed\\\":null,\\\"enable_nimbusml\\\":false,\\\"enable_streaming\\\":false,\\\"force_streaming\\\":false,\\\"track_child_runs\\\":true,\\\"allowed_private_models\\\":[],\\\"label_column_name\\\":\\\"diagnosis\\\",\\\"weight_column_name\\\":null,\\\"cv_split_column_names\\\":null,\\\"enable_local_managed\\\":false,\\\"_local_managed_run_id\\\":null,\\\"cost_mode\\\":1,\\\"lag_length\\\":0,\\\"metric_operation\\\":\\\"maximize\\\",\\\"preprocess\\\":true}\", \"DataPrepJsonString\": \"{\\\\\\\"training_data\\\\\\\": \\\\\\\"{\\\\\\\\\\\\\\\"blocks\\\\\\\\\\\\\\\": [{\\\\\\\\\\\\\\\"id\\\\\\\\\\\\\\\": \\\\\\\\\\\\\\\"be119c72-a75b-4a27-8058-a981f0cf1ea1\\\\\\\\\\\\\\\", \\\\\\\\\\\\\\\"type\\\\\\\\\\\\\\\": \\\\\\\\\\\\\\\"Microsoft.DPrep.GetDatastoreFilesBlock\\\\\\\\\\\\\\\", \\\\\\\\\\\\\\\"arguments\\\\\\\\\\\\\\\": {\\\\\\\\\\\\\\\"datastores\\\\\\\\\\\\\\\": [{\\\\\\\\\\\\\\\"datastoreName\\\\\\\\\\\\\\\": \\\\\\\\\\\\\\\"workspaceblobstore\\\\\\\\\\\\\\\", \\\\\\\\\\\\\\\"path\\\\\\\\\\\\\\\": \\\\\\\\\\\\\\\"UI/03-26-2021_064824_UTC/BreastCancerWisconsinDataset.csv\\\\\\\\\\\\\\\", \\\\\\\\\\\\\\\"resourceGroup\\\\\\\\\\\\\\\": \\\\\\\\\\\\\\\"aml-quickstarts-141384\\\\\\\\\\\\\\\", \\\\\\\\\\\\\\\"subscription\\\\\\\\\\\\\\\": \\\\\\\\\\\\\\\"976ee174-3882-4721-b90a-b5fef6b72f24\\\\\\\\\\\\\\\", \\\\\\\\\\\\\\\"workspaceName\\\\\\\\\\\\\\\": \\\\\\\\\\\\\\\"quick-starts-ws-141384\\\\\\\\\\\\\\\"}]}, \\\\\\\\\\\\\\\"localData\\\\\\\\\\\\\\\": {}, \\\\\\\\\\\\\\\"isEnabled\\\\\\\\\\\\\\\": true, \\\\\\\\\\\\\\\"name\\\\\\\\\\\\\\\": null, \\\\\\\\\\\\\\\"annotation\\\\\\\\\\\\\\\": null}, {\\\\\\\\\\\\\\\"id\\\\\\\\\\\\\\\": \\\\\\\\\\\\\\\"f20fbc35-1f97-4697-8647-a90b7c3aa647\\\\\\\\\\\\\\\", \\\\\\\\\\\\\\\"type\\\\\\\\\\\\\\\": \\\\\\\\\\\\\\\"Microsoft.DPrep.ParseDelimitedBlock\\\\\\\\\\\\\\\", \\\\\\\\\\\\\\\"arguments\\\\\\\\\\\\\\\": {\\\\\\\\\\\\\\\"columnHeadersMode\\\\\\\\\\\\\\\": 1, \\\\\\\\\\\\\\\"fileEncoding\\\\\\\\\\\\\\\": 0, \\\\\\\\\\\\\\\"handleQuotedLineBreaks\\\\\\\\\\\\\\\": false, \\\\\\\\\\\\\\\"preview\\\\\\\\\\\\\\\": false, \\\\\\\\\\\\\\\"separator\\\\\\\\\\\\\\\": \\\\\\\\\\\\\\\",\\\\\\\\\\\\\\\", \\\\\\\\\\\\\\\"skipRows\\\\\\\\\\\\\\\": 0, \\\\\\\\\\\\\\\"skipRowsMode\\\\\\\\\\\\\\\": 0}, \\\\\\\\\\\\\\\"localData\\\\\\\\\\\\\\\": {}, \\\\\\\\\\\\\\\"isEnabled\\\\\\\\\\\\\\\": true, \\\\\\\\\\\\\\\"name\\\\\\\\\\\\\\\": null, \\\\\\\\\\\\\\\"annotation\\\\\\\\\\\\\\\": null}, {\\\\\\\\\\\\\\\"id\\\\\\\\\\\\\\\": \\\\\\\\\\\\\\\"404fe3fa-bd2c-40ca-874f-a5d9375ca571\\\\\\\\\\\\\\\", \\\\\\\\\\\\\\\"type\\\\\\\\\\\\\\\": \\\\\\\\\\\\\\\"Microsoft.DPrep.DropColumnsBlock\\\\\\\\\\\\\\\", \\\\\\\\\\\\\\\"arguments\\\\\\\\\\\\\\\": {\\\\\\\\\\\\\\\"columns\\\\\\\\\\\\\\\": {\\\\\\\\\\\\\\\"type\\\\\\\\\\\\\\\": 0, \\\\\\\\\\\\\\\"details\\\\\\\\\\\\\\\": {\\\\\\\\\\\\\\\"selectedColumns\\\\\\\\\\\\\\\": [\\\\\\\\\\\\\\\"Path\\\\\\\\\\\\\\\"]}}}, \\\\\\\\\\\\\\\"localData\\\\\\\\\\\\\\\": {}, \\\\\\\\\\\\\\\"isEnabled\\\\\\\\\\\\\\\": true, \\\\\\\\\\\\\\\"name\\\\\\\\\\\\\\\": null, \\\\\\\\\\\\\\\"annotation\\\\\\\\\\\\\\\": null}, {\\\\\\\\\\\\\\\"id\\\\\\\\\\\\\\\": \\\\\\\\\\\\\\\"2356cc25-c517-4172-881f-be67813add9c\\\\\\\\\\\\\\\", \\\\\\\\\\\\\\\"type\\\\\\\\\\\\\\\": \\\\\\\\\\\\\\\"Microsoft.DPrep.SetColumnTypesBlock\\\\\\\\\\\\\\\", \\\\\\\\\\\\\\\"arguments\\\\\\\\\\\\\\\": {\\\\\\\\\\\\\\\"columnConversion\\\\\\\\\\\\\\\": [{\\\\\\\\\\\\\\\"column\\\\\\\\\\\\\\\": {\\\\\\\\\\\\\\\"type\\\\\\\\\\\\\\\": 2, \\\\\\\\\\\\\\\"details\\\\\\\\\\\\\\\": {\\\\\\\\\\\\\\\"selectedColumn\\\\\\\\\\\\\\\": \\\\\\\\\\\\\\\"Path\\\\\\\\\\\\\\\"}}, \\\\\\\\\\\\\\\"typeProperty\\\\\\\\\\\\\\\": 0}, {\\\\\\\\\\\\\\\"column\\\\\\\\\\\\\\\": {\\\\\\\\\\\\\\\"type\\\\\\\\\\\\\\\": 2, \\\\\\\\\\\\\\\"details\\\\\\\\\\\\\\\": {\\\\\\\\\\\\\\\"selectedColumn\\\\\\\\\\\\\\\": \\\\\\\\\\\\\\\"id\\\\\\\\\\\\\\\"}}, \\\\\\\\\\\\\\\"typeProperty\\\\\\\\\\\\\\\": 2}, {\\\\\\\\\\\\\\\"column\\\\\\\\\\\\\\\": {\\\\\\\\\\\\\\\"type\\\\\\\\\\\\\\\": 2, \\\\\\\\\\\\\\\"details\\\\\\\\\\\\\\\": {\\\\\\\\\\\\\\\"selectedColumn\\\\\\\\\\\\\\\": \\\\\\\\\\\\\\\"diagnosis\\\\\\\\\\\\\\\"}}, \\\\\\\\\\\\\\\"typeProperty\\\\\\\\\\\\\\\": 0}, {\\\\\\\\\\\\\\\"column\\\\\\\\\\\\\\\": {\\\\\\\\\\\\\\\"type\\\\\\\\\\\\\\\": 2, \\\\\\\\\\\\\\\"details\\\\\\\\\\\\\\\": {\\\\\\\\\\\\\\\"selectedColumn\\\\\\\\\\\\\\\": \\\\\\\\\\\\\\\"radius_mean\\\\\\\\\\\\\\\"}}, \\\\\\\\\\\\\\\"typeProperty\\\\\\\\\\\\\\\": 3}, {\\\\\\\\\\\\\\\"column\\\\\\\\\\\\\\\": {\\\\\\\\\\\\\\\"type\\\\\\\\\\\\\\\": 2, \\\\\\\\\\\\\\\"details\\\\\\\\\\\\\\\": {\\\\\\\\\\\\\\\"selectedColumn\\\\\\\\\\\\\\\": \\\\\\\\\\\\\\\"texture_mean\\\\\\\\\\\\\\\"}}, \\\\\\\\\\\\\\\"typeProperty\\\\\\\\\\\\\\\": 3}, {\\\\\\\\\\\\\\\"column\\\\\\\\\\\\\\\": {\\\\\\\\\\\\\\\"type\\\\\\\\\\\\\\\": 2, \\\\\\\\\\\\\\\"details\\\\\\\\\\\\\\\": {\\\\\\\\\\\\\\\"selectedColumn\\\\\\\\\\\\\\\": \\\\\\\\\\\\\\\"perimeter_mean\\\\\\\\\\\\\\\"}}, \\\\\\\\\\\\\\\"typeProperty\\\\\\\\\\\\\\\": 3}, {\\\\\\\\\\\\\\\"column\\\\\\\\\\\\\\\": {\\\\\\\\\\\\\\\"type\\\\\\\\\\\\\\\": 2, \\\\\\\\\\\\\\\"details\\\\\\\\\\\\\\\": {\\\\\\\\\\\\\\\"selectedColumn\\\\\\\\\\\\\\\": \\\\\\\\\\\\\\\"area_mean\\\\\\\\\\\\\\\"}}, \\\\\\\\\\\\\\\"typeProperty\\\\\\\\\\\\\\\": 3}, {\\\\\\\\\\\\\\\"column\\\\\\\\\\\\\\\": {\\\\\\\\\\\\\\\"type\\\\\\\\\\\\\\\": 2, \\\\\\\\\\\\\\\"details\\\\\\\\\\\\\\\": {\\\\\\\\\\\\\\\"selectedColumn\\\\\\\\\\\\\\\": \\\\\\\\\\\\\\\"smoothness_mean\\\\\\\\\\\\\\\"}}, \\\\\\\\\\\\\\\"typeProperty\\\\\\\\\\\\\\\": 3}, {\\\\\\\\\\\\\\\"column\\\\\\\\\\\\\\\": {\\\\\\\\\\\\\\\"type\\\\\\\\\\\\\\\": 2, \\\\\\\\\\\\\\\"details\\\\\\\\\\\\\\\": {\\\\\\\\\\\\\\\"selectedColumn\\\\\\\\\\\\\\\": \\\\\\\\\\\\\\\"compactness_mean\\\\\\\\\\\\\\\"}}, \\\\\\\\\\\\\\\"typeProperty\\\\\\\\\\\\\\\": 3}, {\\\\\\\\\\\\\\\"column\\\\\\\\\\\\\\\": {\\\\\\\\\\\\\\\"type\\\\\\\\\\\\\\\": 2, \\\\\\\\\\\\\\\"details\\\\\\\\\\\\\\\": {\\\\\\\\\\\\\\\"selectedColumn\\\\\\\\\\\\\\\": \\\\\\\\\\\\\\\"concavity_mean\\\\\\\\\\\\\\\"}}, \\\\\\\\\\\\\\\"typeProperty\\\\\\\\\\\\\\\": 3}, {\\\\\\\\\\\\\\\"column\\\\\\\\\\\\\\\": {\\\\\\\\\\\\\\\"type\\\\\\\\\\\\\\\": 2, \\\\\\\\\\\\\\\"details\\\\\\\\\\\\\\\": {\\\\\\\\\\\\\\\"selectedColumn\\\\\\\\\\\\\\\": \\\\\\\\\\\\\\\"concave points_mean\\\\\\\\\\\\\\\"}}, \\\\\\\\\\\\\\\"typeProperty\\\\\\\\\\\\\\\": 3}, {\\\\\\\\\\\\\\\"column\\\\\\\\\\\\\\\": {\\\\\\\\\\\\\\\"type\\\\\\\\\\\\\\\": 2, \\\\\\\\\\\\\\\"details\\\\\\\\\\\\\\\": {\\\\\\\\\\\\\\\"selectedColumn\\\\\\\\\\\\\\\": \\\\\\\\\\\\\\\"symmetry_mean\\\\\\\\\\\\\\\"}}, \\\\\\\\\\\\\\\"typeProperty\\\\\\\\\\\\\\\": 3}, {\\\\\\\\\\\\\\\"column\\\\\\\\\\\\\\\": {\\\\\\\\\\\\\\\"type\\\\\\\\\\\\\\\": 2, \\\\\\\\\\\\\\\"details\\\\\\\\\\\\\\\": {\\\\\\\\\\\\\\\"selectedColumn\\\\\\\\\\\\\\\": \\\\\\\\\\\\\\\"fractal_dimension_mean\\\\\\\\\\\\\\\"}}, \\\\\\\\\\\\\\\"typeProperty\\\\\\\\\\\\\\\": 3}, {\\\\\\\\\\\\\\\"column\\\\\\\\\\\\\\\": {\\\\\\\\\\\\\\\"type\\\\\\\\\\\\\\\": 2, \\\\\\\\\\\\\\\"details\\\\\\\\\\\\\\\": {\\\\\\\\\\\\\\\"selectedColumn\\\\\\\\\\\\\\\": \\\\\\\\\\\\\\\"radius_se\\\\\\\\\\\\\\\"}}, \\\\\\\\\\\\\\\"typeProperty\\\\\\\\\\\\\\\": 3}, {\\\\\\\\\\\\\\\"column\\\\\\\\\\\\\\\": {\\\\\\\\\\\\\\\"type\\\\\\\\\\\\\\\": 2, \\\\\\\\\\\\\\\"details\\\\\\\\\\\\\\\": {\\\\\\\\\\\\\\\"selectedColumn\\\\\\\\\\\\\\\": \\\\\\\\\\\\\\\"texture_se\\\\\\\\\\\\\\\"}}, \\\\\\\\\\\\\\\"typeProperty\\\\\\\\\\\\\\\": 3}, {\\\\\\\\\\\\\\\"column\\\\\\\\\\\\\\\": {\\\\\\\\\\\\\\\"type\\\\\\\\\\\\\\\": 2, \\\\\\\\\\\\\\\"details\\\\\\\\\\\\\\\": {\\\\\\\\\\\\\\\"selectedColumn\\\\\\\\\\\\\\\": \\\\\\\\\\\\\\\"perimeter_se\\\\\\\\\\\\\\\"}}, \\\\\\\\\\\\\\\"typeProperty\\\\\\\\\\\\\\\": 3}, {\\\\\\\\\\\\\\\"column\\\\\\\\\\\\\\\": {\\\\\\\\\\\\\\\"type\\\\\\\\\\\\\\\": 2, \\\\\\\\\\\\\\\"details\\\\\\\\\\\\\\\": {\\\\\\\\\\\\\\\"selectedColumn\\\\\\\\\\\\\\\": \\\\\\\\\\\\\\\"area_se\\\\\\\\\\\\\\\"}}, \\\\\\\\\\\\\\\"typeProperty\\\\\\\\\\\\\\\": 3}, {\\\\\\\\\\\\\\\"column\\\\\\\\\\\\\\\": {\\\\\\\\\\\\\\\"type\\\\\\\\\\\\\\\": 2, \\\\\\\\\\\\\\\"details\\\\\\\\\\\\\\\": {\\\\\\\\\\\\\\\"selectedColumn\\\\\\\\\\\\\\\": \\\\\\\\\\\\\\\"smoothness_se\\\\\\\\\\\\\\\"}}, \\\\\\\\\\\\\\\"typeProperty\\\\\\\\\\\\\\\": 3}, {\\\\\\\\\\\\\\\"column\\\\\\\\\\\\\\\": {\\\\\\\\\\\\\\\"type\\\\\\\\\\\\\\\": 2, \\\\\\\\\\\\\\\"details\\\\\\\\\\\\\\\": {\\\\\\\\\\\\\\\"selectedColumn\\\\\\\\\\\\\\\": \\\\\\\\\\\\\\\"compactness_se\\\\\\\\\\\\\\\"}}, \\\\\\\\\\\\\\\"typeProperty\\\\\\\\\\\\\\\": 3}, {\\\\\\\\\\\\\\\"column\\\\\\\\\\\\\\\": {\\\\\\\\\\\\\\\"type\\\\\\\\\\\\\\\": 2, \\\\\\\\\\\\\\\"details\\\\\\\\\\\\\\\": {\\\\\\\\\\\\\\\"selectedColumn\\\\\\\\\\\\\\\": \\\\\\\\\\\\\\\"concavity_se\\\\\\\\\\\\\\\"}}, \\\\\\\\\\\\\\\"typeProperty\\\\\\\\\\\\\\\": 3}, {\\\\\\\\\\\\\\\"column\\\\\\\\\\\\\\\": {\\\\\\\\\\\\\\\"type\\\\\\\\\\\\\\\": 2, \\\\\\\\\\\\\\\"details\\\\\\\\\\\\\\\": {\\\\\\\\\\\\\\\"selectedColumn\\\\\\\\\\\\\\\": \\\\\\\\\\\\\\\"concave points_se\\\\\\\\\\\\\\\"}}, \\\\\\\\\\\\\\\"typeProperty\\\\\\\\\\\\\\\": 3}, {\\\\\\\\\\\\\\\"column\\\\\\\\\\\\\\\": {\\\\\\\\\\\\\\\"type\\\\\\\\\\\\\\\": 2, \\\\\\\\\\\\\\\"details\\\\\\\\\\\\\\\": {\\\\\\\\\\\\\\\"selectedColumn\\\\\\\\\\\\\\\": \\\\\\\\\\\\\\\"symmetry_se\\\\\\\\\\\\\\\"}}, \\\\\\\\\\\\\\\"typeProperty\\\\\\\\\\\\\\\": 3}, {\\\\\\\\\\\\\\\"column\\\\\\\\\\\\\\\": {\\\\\\\\\\\\\\\"type\\\\\\\\\\\\\\\": 2, \\\\\\\\\\\\\\\"details\\\\\\\\\\\\\\\": {\\\\\\\\\\\\\\\"selectedColumn\\\\\\\\\\\\\\\": \\\\\\\\\\\\\\\"fractal_dimension_se\\\\\\\\\\\\\\\"}}, \\\\\\\\\\\\\\\"typeProperty\\\\\\\\\\\\\\\": 3}, {\\\\\\\\\\\\\\\"column\\\\\\\\\\\\\\\": {\\\\\\\\\\\\\\\"type\\\\\\\\\\\\\\\": 2, \\\\\\\\\\\\\\\"details\\\\\\\\\\\\\\\": {\\\\\\\\\\\\\\\"selectedColumn\\\\\\\\\\\\\\\": \\\\\\\\\\\\\\\"radius_worst\\\\\\\\\\\\\\\"}}, \\\\\\\\\\\\\\\"typeProperty\\\\\\\\\\\\\\\": 3}, {\\\\\\\\\\\\\\\"column\\\\\\\\\\\\\\\": {\\\\\\\\\\\\\\\"type\\\\\\\\\\\\\\\": 2, \\\\\\\\\\\\\\\"details\\\\\\\\\\\\\\\": {\\\\\\\\\\\\\\\"selectedColumn\\\\\\\\\\\\\\\": \\\\\\\\\\\\\\\"texture_worst\\\\\\\\\\\\\\\"}}, \\\\\\\\\\\\\\\"typeProperty\\\\\\\\\\\\\\\": 3}, {\\\\\\\\\\\\\\\"column\\\\\\\\\\\\\\\": {\\\\\\\\\\\\\\\"type\\\\\\\\\\\\\\\": 2, \\\\\\\\\\\\\\\"details\\\\\\\\\\\\\\\": {\\\\\\\\\\\\\\\"selectedColumn\\\\\\\\\\\\\\\": \\\\\\\\\\\\\\\"perimeter_worst\\\\\\\\\\\\\\\"}}, \\\\\\\\\\\\\\\"typeProperty\\\\\\\\\\\\\\\": 3}, {\\\\\\\\\\\\\\\"column\\\\\\\\\\\\\\\": {\\\\\\\\\\\\\\\"type\\\\\\\\\\\\\\\": 2, \\\\\\\\\\\\\\\"details\\\\\\\\\\\\\\\": {\\\\\\\\\\\\\\\"selectedColumn\\\\\\\\\\\\\\\": \\\\\\\\\\\\\\\"area_worst\\\\\\\\\\\\\\\"}}, \\\\\\\\\\\\\\\"typeProperty\\\\\\\\\\\\\\\": 3}, {\\\\\\\\\\\\\\\"column\\\\\\\\\\\\\\\": {\\\\\\\\\\\\\\\"type\\\\\\\\\\\\\\\": 2, \\\\\\\\\\\\\\\"details\\\\\\\\\\\\\\\": {\\\\\\\\\\\\\\\"selectedColumn\\\\\\\\\\\\\\\": \\\\\\\\\\\\\\\"smoothness_worst\\\\\\\\\\\\\\\"}}, \\\\\\\\\\\\\\\"typeProperty\\\\\\\\\\\\\\\": 3}, {\\\\\\\\\\\\\\\"column\\\\\\\\\\\\\\\": {\\\\\\\\\\\\\\\"type\\\\\\\\\\\\\\\": 2, \\\\\\\\\\\\\\\"details\\\\\\\\\\\\\\\": {\\\\\\\\\\\\\\\"selectedColumn\\\\\\\\\\\\\\\": \\\\\\\\\\\\\\\"compactness_worst\\\\\\\\\\\\\\\"}}, \\\\\\\\\\\\\\\"typeProperty\\\\\\\\\\\\\\\": 3}, {\\\\\\\\\\\\\\\"column\\\\\\\\\\\\\\\": {\\\\\\\\\\\\\\\"type\\\\\\\\\\\\\\\": 2, \\\\\\\\\\\\\\\"details\\\\\\\\\\\\\\\": {\\\\\\\\\\\\\\\"selectedColumn\\\\\\\\\\\\\\\": \\\\\\\\\\\\\\\"concavity_worst\\\\\\\\\\\\\\\"}}, \\\\\\\\\\\\\\\"typeProperty\\\\\\\\\\\\\\\": 3}, {\\\\\\\\\\\\\\\"column\\\\\\\\\\\\\\\": {\\\\\\\\\\\\\\\"type\\\\\\\\\\\\\\\": 2, \\\\\\\\\\\\\\\"details\\\\\\\\\\\\\\\": {\\\\\\\\\\\\\\\"selectedColumn\\\\\\\\\\\\\\\": \\\\\\\\\\\\\\\"concave points_worst\\\\\\\\\\\\\\\"}}, \\\\\\\\\\\\\\\"typeProperty\\\\\\\\\\\\\\\": 3}, {\\\\\\\\\\\\\\\"column\\\\\\\\\\\\\\\": {\\\\\\\\\\\\\\\"type\\\\\\\\\\\\\\\": 2, \\\\\\\\\\\\\\\"details\\\\\\\\\\\\\\\": {\\\\\\\\\\\\\\\"selectedColumn\\\\\\\\\\\\\\\": \\\\\\\\\\\\\\\"symmetry_worst\\\\\\\\\\\\\\\"}}, \\\\\\\\\\\\\\\"typeProperty\\\\\\\\\\\\\\\": 3}, {\\\\\\\\\\\\\\\"column\\\\\\\\\\\\\\\": {\\\\\\\\\\\\\\\"type\\\\\\\\\\\\\\\": 2, \\\\\\\\\\\\\\\"details\\\\\\\\\\\\\\\": {\\\\\\\\\\\\\\\"selectedColumn\\\\\\\\\\\\\\\": \\\\\\\\\\\\\\\"fractal_dimension_worst\\\\\\\\\\\\\\\"}}, \\\\\\\\\\\\\\\"typeProperty\\\\\\\\\\\\\\\": 3}]}, \\\\\\\\\\\\\\\"localData\\\\\\\\\\\\\\\": {}, \\\\\\\\\\\\\\\"isEnabled\\\\\\\\\\\\\\\": true, \\\\\\\\\\\\\\\"name\\\\\\\\\\\\\\\": null, \\\\\\\\\\\\\\\"annotation\\\\\\\\\\\\\\\": null}], \\\\\\\\\\\\\\\"inspectors\\\\\\\\\\\\\\\": [], \\\\\\\\\\\\\\\"meta\\\\\\\\\\\\\\\": {\\\\\\\\\\\\\\\"savedDatasetId\\\\\\\\\\\\\\\": \\\\\\\\\\\\\\\"458ba78d-8d2d-4a96-8dc2-25f3c7d17f2f\\\\\\\\\\\\\\\", \\\\\\\\\\\\\\\"datasetType\\\\\\\\\\\\\\\": \\\\\\\\\\\\\\\"tabular\\\\\\\\\\\\\\\", \\\\\\\\\\\\\\\"subscriptionId\\\\\\\\\\\\\\\": \\\\\\\\\\\\\\\"976ee174-3882-4721-b90a-b5fef6b72f24\\\\\\\\\\\\\\\", \\\\\\\\\\\\\\\"workspaceId\\\\\\\\\\\\\\\": \\\\\\\\\\\\\\\"53f46830-d9ad-4a42-b002-05923adec3f8\\\\\\\\\\\\\\\", \\\\\\\\\\\\\\\"workspaceLocation\\\\\\\\\\\\\\\": \\\\\\\\\\\\\\\"southcentralus\\\\\\\\\\\\\\\"}}\\\\\\\", \\\\\\\"activities\\\\\\\": 0}\", \"EnableSubsampling\": null, \"runTemplate\": \"AutoML\", \"azureml.runsource\": \"automl\", \"display_task_type\": \"classification\", \"dependencies_versions\": \"{\\\"azureml-widgets\\\": \\\"1.24.0\\\", \\\"azureml-train\\\": \\\"1.24.0\\\", \\\"azureml-train-restclients-hyperdrive\\\": \\\"1.24.0\\\", \\\"azureml-train-core\\\": \\\"1.24.0\\\", \\\"azureml-train-automl\\\": \\\"1.24.0\\\", \\\"azureml-train-automl-runtime\\\": \\\"1.24.0\\\", \\\"azureml-train-automl-client\\\": \\\"1.24.0\\\", \\\"azureml-tensorboard\\\": \\\"1.24.0\\\", \\\"azureml-telemetry\\\": \\\"1.24.0\\\", \\\"azureml-sdk\\\": \\\"1.24.0\\\", \\\"azureml-samples\\\": \\\"0+unknown\\\", \\\"azureml-pipeline\\\": \\\"1.24.0\\\", \\\"azureml-pipeline-steps\\\": \\\"1.24.0\\\", \\\"azureml-pipeline-core\\\": \\\"1.24.0\\\", \\\"azureml-opendatasets\\\": \\\"1.24.0\\\", \\\"azureml-model-management-sdk\\\": \\\"1.0.1b6.post1\\\", \\\"azureml-mlflow\\\": \\\"1.24.0\\\", \\\"azureml-interpret\\\": \\\"1.24.0\\\", \\\"azureml-explain-model\\\": \\\"1.24.0\\\", \\\"azureml-defaults\\\": \\\"1.24.0\\\", \\\"azureml-dataset-runtime\\\": \\\"1.24.0\\\", \\\"azureml-dataprep\\\": \\\"2.11.1\\\", \\\"azureml-dataprep-rslex\\\": \\\"1.9.0\\\", \\\"azureml-dataprep-native\\\": \\\"30.0.0\\\", \\\"azureml-datadrift\\\": \\\"1.24.0\\\", \\\"azureml-core\\\": \\\"1.24.0\\\", \\\"azureml-contrib-services\\\": \\\"1.24.0\\\", \\\"azureml-contrib-server\\\": \\\"1.24.0\\\", \\\"azureml-contrib-reinforcementlearning\\\": \\\"1.24.0\\\", \\\"azureml-contrib-pipeline-steps\\\": \\\"1.24.0\\\", \\\"azureml-contrib-notebook\\\": \\\"1.24.0\\\", \\\"azureml-contrib-gbdt\\\": \\\"1.24.0\\\", \\\"azureml-contrib-fairness\\\": \\\"1.24.0\\\", \\\"azureml-contrib-dataset\\\": \\\"1.24.0\\\", \\\"azureml-cli-common\\\": \\\"1.24.0\\\", \\\"azureml-automl-runtime\\\": \\\"1.24.0\\\", \\\"azureml-automl-dnn-nlp\\\": \\\"1.24.0\\\", \\\"azureml-automl-core\\\": \\\"1.24.0\\\", \\\"azureml-accel-models\\\": \\\"1.24.0\\\"}\", \"_aml_system_scenario_identification\": \"Remote.Parent\", \"ClientType\": \"SDK\", \"environment_cpu_name\": \"AzureML-AutoML\", \"environment_cpu_label\": \"prod\", \"environment_gpu_name\": \"AzureML-AutoML-GPU\", \"environment_gpu_label\": \"prod\", \"root_attribution\": \"automl\", \"attribution\": \"AutoML\", \"Orchestrator\": \"AutoML\", \"CancelUri\": \"https://southcentralus.experiments.azureml.net/jasmine/v1.0/subscriptions/976ee174-3882-4721-b90a-b5fef6b72f24/resourceGroups/aml-quickstarts-141384/providers/Microsoft.MachineLearningServices/workspaces/quick-starts-ws-141384/experimentids/67dd1c85-fc88-40df-8928-7e895e277161/cancel/AutoML_7d9aec74-330e-4112-b25c-42a09ee2a3d2\", \"ClientSdkVersion\": \"1.24.0\", \"snapshotId\": \"00000000-0000-0000-0000-000000000000\", \"SetupRunId\": \"AutoML_7d9aec74-330e-4112-b25c-42a09ee2a3d2_setup\", \"SetupRunContainerId\": \"dcid.AutoML_7d9aec74-330e-4112-b25c-42a09ee2a3d2_setup\", \"FeaturizationRunJsonPath\": \"featurizer_container.json\", \"FeaturizationRunId\": \"AutoML_7d9aec74-330e-4112-b25c-42a09ee2a3d2_featurize\", \"ProblemInfoJsonString\": \"{\\\"dataset_num_categorical\\\": 0, \\\"is_sparse\\\": false, \\\"subsampling\\\": false, \\\"dataset_classes\\\": 2, \\\"dataset_features\\\": 31, \\\"dataset_samples\\\": 569, \\\"single_frequency_class_detected\\\": false}\", \"ModelExplainRunId\": \"AutoML_7d9aec74-330e-4112-b25c-42a09ee2a3d2_ModelExplain\"}, \"tags\": {\"model_explain_run\": \"best_run\", \"_aml_system_azureml.automlComponent\": \"AutoML\", \"pipeline_id\": \"\", \"score\": \"\", \"predicted_cost\": \"\", \"fit_time\": \"\", \"training_percent\": \"\", \"iteration\": \"\", \"run_preprocessor\": \"\", \"run_algorithm\": \"\", \"dynamic_whitelisting_iterations\": \"<25>;<30>;<35>;<40>;\", \"automl_best_child_run_id\": \"AutoML_7d9aec74-330e-4112-b25c-42a09ee2a3d2_45\", \"model_explain_best_run_child_id\": \"AutoML_7d9aec74-330e-4112-b25c-42a09ee2a3d2_45\"}, \"end_time_utc\": \"2021-03-26T07:40:06.337881Z\", \"status\": \"Completed\", \"log_files\": {}, \"log_groups\": [], \"run_duration\": \"0:40:29\", \"run_number\": \"1\", \"run_queued_details\": {\"status\": \"Completed\", \"details\": null}}, \"child_runs\": [{\"run_id\": \"AutoML_7d9aec74-330e-4112-b25c-42a09ee2a3d2_0\", \"run_number\": 5, \"metric\": null, \"status\": \"Completed\", \"run_type\": \"azureml.scriptrun\", \"training_percent\": \"100\", \"start_time\": \"2021-03-26T07:10:23.644632Z\", \"end_time\": \"2021-03-26T07:11:18.357273Z\", \"created_time\": \"2021-03-26T07:09:07.722648Z\", \"created_time_dt\": \"2021-03-26T07:09:07.722648Z\", \"duration\": \"0:02:10\", \"iteration\": \"0\", \"goal\": \"AUC_weighted_max\", \"run_name\": \"MaxAbsScaler, LightGBM\", \"run_properties\": \"copy=True\", \"primary_metric\": 0.99378259, \"best_metric\": 0.99378259}, {\"run_id\": \"AutoML_7d9aec74-330e-4112-b25c-42a09ee2a3d2_4\", \"run_number\": 6, \"metric\": null, \"status\": \"Completed\", \"run_type\": \"azureml.scriptrun\", \"training_percent\": \"100\", \"start_time\": \"2021-03-26T07:11:13.210236Z\", \"end_time\": \"2021-03-26T07:14:26.175635Z\", \"created_time\": \"2021-03-26T07:09:07.742697Z\", \"created_time_dt\": \"2021-03-26T07:09:07.742697Z\", \"duration\": \"0:05:18\", \"iteration\": \"4\", \"goal\": \"AUC_weighted_max\", \"run_name\": \"MinMaxScaler, RandomForest\", \"run_properties\": \"copy=True, feature_range=(0, 1\", \"primary_metric\": 0.99147479, \"best_metric\": 0.9944347}, {\"run_id\": \"AutoML_7d9aec74-330e-4112-b25c-42a09ee2a3d2_2\", \"run_number\": 7, \"metric\": null, \"status\": \"Completed\", \"run_type\": \"azureml.scriptrun\", \"training_percent\": \"100\", \"start_time\": \"2021-03-26T07:11:14.404608Z\", \"end_time\": \"2021-03-26T07:14:19.136588Z\", \"created_time\": \"2021-03-26T07:09:07.766096Z\", \"created_time_dt\": \"2021-03-26T07:09:07.766096Z\", \"duration\": \"0:05:11\", \"iteration\": \"2\", \"goal\": \"AUC_weighted_max\", \"run_name\": \"MinMaxScaler, RandomForest\", \"run_properties\": \"copy=True, feature_range=(0, 1\", \"primary_metric\": 0.98745938, \"best_metric\": 0.9944347}, {\"run_id\": \"AutoML_7d9aec74-330e-4112-b25c-42a09ee2a3d2_3\", \"run_number\": 8, \"metric\": null, \"status\": \"Completed\", \"run_type\": \"azureml.scriptrun\", \"training_percent\": \"100\", \"start_time\": \"2021-03-26T07:09:20.139624Z\", \"end_time\": \"2021-03-26T07:10:02.858599Z\", \"created_time\": \"2021-03-26T07:09:07.785368Z\", \"created_time_dt\": \"2021-03-26T07:09:07.785368Z\", \"duration\": \"0:00:55\", \"iteration\": \"3\", \"goal\": \"AUC_weighted_max\", \"run_name\": \"RobustScaler, ExtremeRandomTrees\", \"run_properties\": \"copy=True, quantile_range=[10, 90], with_centering=False,\\n             with_scaling=False\", \"primary_metric\": 0.99061164, \"best_metric\": 0.9944347}, {\"run_id\": \"AutoML_7d9aec74-330e-4112-b25c-42a09ee2a3d2_1\", \"run_number\": 9, \"metric\": null, \"status\": \"Completed\", \"run_type\": \"azureml.scriptrun\", \"training_percent\": \"100\", \"start_time\": \"2021-03-26T07:11:12.476988Z\", \"end_time\": \"2021-03-26T07:14:41.343141Z\", \"created_time\": \"2021-03-26T07:09:07.743663Z\", \"created_time_dt\": \"2021-03-26T07:09:07.743663Z\", \"duration\": \"0:05:33\", \"iteration\": \"1\", \"goal\": \"AUC_weighted_max\", \"run_name\": \"MaxAbsScaler, XGBoostClassifier\", \"run_properties\": \"copy=True\", \"primary_metric\": 0.9944347, \"best_metric\": 0.9944347}, {\"run_id\": \"AutoML_7d9aec74-330e-4112-b25c-42a09ee2a3d2_5\", \"run_number\": 10, \"metric\": null, \"status\": \"Completed\", \"run_type\": \"azureml.scriptrun\", \"training_percent\": \"100\", \"start_time\": \"2021-03-26T07:11:29.620264Z\", \"end_time\": \"2021-03-26T07:12:13.33328Z\", \"created_time\": \"2021-03-26T07:10:05.982609Z\", \"created_time_dt\": \"2021-03-26T07:10:05.982609Z\", \"duration\": \"0:02:07\", \"iteration\": \"5\", \"goal\": \"AUC_weighted_max\", \"run_name\": \"MinMaxScaler, RandomForest\", \"run_properties\": \"copy=True, feature_range=(0, 1\", \"primary_metric\": 0.98408282, \"best_metric\": 0.9944347}, {\"run_id\": \"AutoML_7d9aec74-330e-4112-b25c-42a09ee2a3d2_6\", \"run_number\": 11, \"metric\": null, \"status\": \"Completed\", \"run_type\": \"azureml.scriptrun\", \"training_percent\": \"100\", \"start_time\": \"2021-03-26T07:12:34.192835Z\", \"end_time\": \"2021-03-26T07:13:19.126651Z\", \"created_time\": \"2021-03-26T07:11:22.356645Z\", \"created_time_dt\": \"2021-03-26T07:11:22.356645Z\", \"duration\": \"0:01:56\", \"iteration\": \"6\", \"goal\": \"AUC_weighted_max\", \"run_name\": \"StandardScalerWrapper, RandomForest\", \"run_properties\": \"<azureml.automl.runtime.shared.model_wrappers.StandardScalerWrapper object at 0x7fb88d31f860\", \"primary_metric\": 0.98879341, \"best_metric\": 0.9944347}, {\"run_id\": \"AutoML_7d9aec74-330e-4112-b25c-42a09ee2a3d2_7\", \"run_number\": 12, \"metric\": null, \"status\": \"Completed\", \"run_type\": \"azureml.scriptrun\", \"training_percent\": \"100\", \"start_time\": \"2021-03-26T07:13:37.830691Z\", \"end_time\": \"2021-03-26T07:14:25.222287Z\", \"created_time\": \"2021-03-26T07:12:16.853128Z\", \"created_time_dt\": \"2021-03-26T07:12:16.853128Z\", \"duration\": \"0:02:08\", \"iteration\": \"7\", \"goal\": \"AUC_weighted_max\", \"run_name\": \"MinMaxScaler, ExtremeRandomTrees\", \"run_properties\": \"copy=True, feature_range=(0, 1\", \"primary_metric\": 0.98756025, \"best_metric\": 0.9944347}, {\"run_id\": \"AutoML_7d9aec74-330e-4112-b25c-42a09ee2a3d2_8\", \"run_number\": 13, \"metric\": null, \"status\": \"Completed\", \"run_type\": \"azureml.scriptrun\", \"training_percent\": \"100\", \"start_time\": \"2021-03-26T07:14:35.924157Z\", \"end_time\": \"2021-03-26T07:15:17.517552Z\", \"created_time\": \"2021-03-26T07:13:22.229023Z\", \"created_time_dt\": \"2021-03-26T07:13:22.229023Z\", \"duration\": \"0:01:55\", \"iteration\": \"8\", \"goal\": \"AUC_weighted_max\", \"run_name\": \"MinMaxScaler, ExtremeRandomTrees\", \"run_properties\": \"copy=True, feature_range=(0, 1\", \"primary_metric\": 0.98891471, \"best_metric\": 0.9944347}, {\"run_id\": \"AutoML_7d9aec74-330e-4112-b25c-42a09ee2a3d2_9\", \"run_number\": 14, \"metric\": null, \"status\": \"Completed\", \"run_type\": \"azureml.scriptrun\", \"training_percent\": \"100\", \"start_time\": \"2021-03-26T07:14:42.023612Z\", \"end_time\": \"2021-03-26T07:15:22.746391Z\", \"created_time\": \"2021-03-26T07:14:24.043198Z\", \"created_time_dt\": \"2021-03-26T07:14:24.043198Z\", \"duration\": \"0:00:58\", \"iteration\": \"9\", \"goal\": \"AUC_weighted_max\", \"run_name\": \"SparseNormalizer, KNN\", \"run_properties\": \"<azureml.automl.runtime.shared.model_wrappers.SparseNormalizer object at 0x7fd36de4d4e0\", \"primary_metric\": 0.96217185, \"best_metric\": 0.9944347}, {\"run_id\": \"AutoML_7d9aec74-330e-4112-b25c-42a09ee2a3d2_10\", \"run_number\": 15, \"metric\": null, \"status\": \"Completed\", \"run_type\": \"azureml.scriptrun\", \"training_percent\": \"100\", \"start_time\": \"2021-03-26T07:14:52.835773Z\", \"end_time\": \"2021-03-26T07:15:35.165013Z\", \"created_time\": \"2021-03-26T07:14:31.152519Z\", \"created_time_dt\": \"2021-03-26T07:14:31.152519Z\", \"duration\": \"0:01:04\", \"iteration\": \"10\", \"goal\": \"AUC_weighted_max\", \"run_name\": \"MinMaxScaler, ExtremeRandomTrees\", \"run_properties\": \"copy=True, feature_range=(0, 1\", \"primary_metric\": 0.99104152, \"best_metric\": 0.9944347}, {\"run_id\": \"AutoML_7d9aec74-330e-4112-b25c-42a09ee2a3d2_11\", \"run_number\": 16, \"metric\": null, \"status\": \"Completed\", \"run_type\": \"azureml.scriptrun\", \"training_percent\": \"100\", \"start_time\": \"2021-03-26T07:14:40.789236Z\", \"end_time\": \"2021-03-26T07:15:25.233481Z\", \"created_time\": \"2021-03-26T07:14:31.171973Z\", \"created_time_dt\": \"2021-03-26T07:14:31.171973Z\", \"duration\": \"0:00:54\", \"iteration\": \"11\", \"goal\": \"AUC_weighted_max\", \"run_name\": \"RobustScaler, ExtremeRandomTrees\", \"run_properties\": \"copy=True, quantile_range=[10, 90], with_centering=True,\\n             with_scaling=False\", \"primary_metric\": 0.98693419, \"best_metric\": 0.9944347}, {\"run_id\": \"AutoML_7d9aec74-330e-4112-b25c-42a09ee2a3d2_12\", \"run_number\": 17, \"metric\": null, \"status\": \"Completed\", \"run_type\": \"azureml.scriptrun\", \"training_percent\": \"100\", \"start_time\": \"2021-03-26T07:15:36.603072Z\", \"end_time\": \"2021-03-26T07:16:14.188284Z\", \"created_time\": \"2021-03-26T07:14:43.968265Z\", \"created_time_dt\": \"2021-03-26T07:14:43.968265Z\", \"duration\": \"0:01:30\", \"iteration\": \"12\", \"goal\": \"AUC_weighted_max\", \"run_name\": \"StandardScalerWrapper, RandomForest\", \"run_properties\": \"<azureml.automl.runtime.shared.model_wrappers.StandardScalerWrapper object at 0x7f600468d4e0\", \"primary_metric\": 0.98766923, \"best_metric\": 0.9944347}, {\"run_id\": \"AutoML_7d9aec74-330e-4112-b25c-42a09ee2a3d2_14\", \"run_number\": 18, \"metric\": null, \"status\": \"Completed\", \"run_type\": \"azureml.scriptrun\", \"training_percent\": \"100\", \"start_time\": \"2021-03-26T07:15:39.235746Z\", \"end_time\": \"2021-03-26T07:16:15.915799Z\", \"created_time\": \"2021-03-26T07:15:25.944342Z\", \"created_time_dt\": \"2021-03-26T07:15:25.944342Z\", \"duration\": \"0:00:49\", \"iteration\": \"14\", \"goal\": \"AUC_weighted_max\", \"run_name\": \"RobustScaler, RandomForest\", \"run_properties\": \"copy=True, quantile_range=[10, 90], with_centering=True,\\n             with_scaling=False\", \"primary_metric\": 0.98498802, \"best_metric\": 0.99579219}, {\"run_id\": \"AutoML_7d9aec74-330e-4112-b25c-42a09ee2a3d2_13\", \"run_number\": 19, \"metric\": null, \"status\": \"Completed\", \"run_type\": \"azureml.scriptrun\", \"training_percent\": \"100\", \"start_time\": \"2021-03-26T07:15:40.276196Z\", \"end_time\": \"2021-03-26T07:16:18.430927Z\", \"created_time\": \"2021-03-26T07:15:25.95705Z\", \"created_time_dt\": \"2021-03-26T07:15:25.95705Z\", \"duration\": \"0:00:52\", \"iteration\": \"13\", \"goal\": \"AUC_weighted_max\", \"run_name\": \"StandardScalerWrapper, SGD\", \"run_properties\": \"<azureml.automl.runtime.shared.model_wrappers.StandardScalerWrapper object at 0x7f8844ab3208\", \"primary_metric\": 0.99579219, \"best_metric\": 0.99579219}, {\"run_id\": \"AutoML_7d9aec74-330e-4112-b25c-42a09ee2a3d2_15\", \"run_number\": 20, \"metric\": null, \"status\": \"Completed\", \"run_type\": \"azureml.scriptrun\", \"training_percent\": \"100\", \"start_time\": \"2021-03-26T07:15:48.001018Z\", \"end_time\": \"2021-03-26T07:16:29.609356Z\", \"created_time\": \"2021-03-26T07:15:32.672995Z\", \"created_time_dt\": \"2021-03-26T07:15:32.672995Z\", \"duration\": \"0:00:56\", \"iteration\": \"15\", \"goal\": \"AUC_weighted_max\", \"run_name\": \"StandardScalerWrapper, KNN\", \"run_properties\": \"<azureml.automl.runtime.shared.model_wrappers.StandardScalerWrapper object at 0x7fde3005b828\", \"primary_metric\": 0.90579445, \"best_metric\": 0.99579219}, {\"run_id\": \"AutoML_7d9aec74-330e-4112-b25c-42a09ee2a3d2_16\", \"run_number\": 21, \"metric\": null, \"status\": \"Completed\", \"run_type\": \"azureml.scriptrun\", \"training_percent\": \"100\", \"start_time\": \"2021-03-26T07:16:27.992289Z\", \"end_time\": \"2021-03-26T07:17:10.296541Z\", \"created_time\": \"2021-03-26T07:15:39.608397Z\", \"created_time_dt\": \"2021-03-26T07:15:39.608397Z\", \"duration\": \"0:01:30\", \"iteration\": \"16\", \"goal\": \"AUC_weighted_max\", \"run_name\": \"MinMaxScaler, RandomForest\", \"run_properties\": \"copy=True, feature_range=(0, 1\", \"primary_metric\": 0.98735463, \"best_metric\": 0.99579219}, {\"run_id\": \"AutoML_7d9aec74-330e-4112-b25c-42a09ee2a3d2_17\", \"run_number\": 22, \"metric\": null, \"status\": \"Completed\", \"run_type\": \"azureml.scriptrun\", \"training_percent\": \"100\", \"start_time\": \"2021-03-26T07:16:34.029178Z\", \"end_time\": \"2021-03-26T07:17:11.16139Z\", \"created_time\": \"2021-03-26T07:16:18.088479Z\", \"created_time_dt\": \"2021-03-26T07:16:18.088479Z\", \"duration\": \"0:00:53\", \"iteration\": \"17\", \"goal\": \"AUC_weighted_max\", \"run_name\": \"MinMaxScaler, ExtremeRandomTrees\", \"run_properties\": \"copy=True, feature_range=(0, 1\", \"primary_metric\": 0.98637433, \"best_metric\": 0.99579219}, {\"run_id\": \"AutoML_7d9aec74-330e-4112-b25c-42a09ee2a3d2_18\", \"run_number\": 23, \"metric\": null, \"status\": \"Completed\", \"run_type\": \"azureml.scriptrun\", \"training_percent\": \"100\", \"start_time\": \"2021-03-26T07:16:35.428035Z\", \"end_time\": \"2021-03-26T07:17:30.778521Z\", \"created_time\": \"2021-03-26T07:16:27.151081Z\", \"created_time_dt\": \"2021-03-26T07:16:27.151081Z\", \"duration\": \"0:01:03\", \"iteration\": \"18\", \"goal\": \"AUC_weighted_max\", \"run_name\": \"MaxAbsScaler, RandomForest\", \"run_properties\": \"copy=True\", \"primary_metric\": 0.98680642, \"best_metric\": 0.99579219}, {\"run_id\": \"AutoML_7d9aec74-330e-4112-b25c-42a09ee2a3d2_19\", \"run_number\": 24, \"metric\": null, \"status\": \"Completed\", \"run_type\": \"azureml.scriptrun\", \"training_percent\": \"100\", \"start_time\": \"2021-03-26T07:16:44.355471Z\", \"end_time\": \"2021-03-26T07:17:25.090005Z\", \"created_time\": \"2021-03-26T07:16:27.187484Z\", \"created_time_dt\": \"2021-03-26T07:16:27.187484Z\", \"duration\": \"0:00:57\", \"iteration\": \"19\", \"goal\": \"AUC_weighted_max\", \"run_name\": \"StandardScalerWrapper, XGBoostClassifier\", \"run_properties\": \"<azureml.automl.runtime.shared.model_wrappers.StandardScalerWrapper object at 0x7f3ee90178d0\", \"primary_metric\": 0.98994927, \"best_metric\": 0.99579219}, {\"run_id\": \"AutoML_7d9aec74-330e-4112-b25c-42a09ee2a3d2_20\", \"run_number\": 25, \"metric\": null, \"status\": \"Completed\", \"run_type\": \"azureml.scriptrun\", \"training_percent\": \"100\", \"start_time\": \"2021-03-26T07:17:23.067316Z\", \"end_time\": \"2021-03-26T07:18:19.395473Z\", \"created_time\": \"2021-03-26T07:16:35.170456Z\", \"created_time_dt\": \"2021-03-26T07:16:35.170456Z\", \"duration\": \"0:01:44\", \"iteration\": \"20\", \"goal\": \"AUC_weighted_max\", \"run_name\": \"MaxAbsScaler, RandomForest\", \"run_properties\": \"copy=True\", \"primary_metric\": 0.98943264, \"best_metric\": 0.99579219}, {\"run_id\": \"AutoML_7d9aec74-330e-4112-b25c-42a09ee2a3d2_21\", \"run_number\": 26, \"metric\": null, \"status\": \"Completed\", \"run_type\": \"azureml.scriptrun\", \"training_percent\": \"100\", \"start_time\": \"2021-03-26T07:17:30.467355Z\", \"end_time\": \"2021-03-26T07:18:26.366107Z\", \"created_time\": \"2021-03-26T07:17:13.477235Z\", \"created_time_dt\": \"2021-03-26T07:17:13.477235Z\", \"duration\": \"0:01:12\", \"iteration\": \"21\", \"goal\": \"AUC_weighted_max\", \"run_name\": \"MaxAbsScaler, ExtremeRandomTrees\", \"run_properties\": \"copy=True\", \"primary_metric\": 0.98723823, \"best_metric\": 0.99579219}, {\"run_id\": \"AutoML_7d9aec74-330e-4112-b25c-42a09ee2a3d2_22\", \"run_number\": 27, \"metric\": null, \"status\": \"Completed\", \"run_type\": \"azureml.scriptrun\", \"training_percent\": \"100\", \"start_time\": \"2021-03-26T07:17:43.003606Z\", \"end_time\": \"2021-03-26T07:18:36.801698Z\", \"created_time\": \"2021-03-26T07:17:17.531097Z\", \"created_time_dt\": \"2021-03-26T07:17:17.531097Z\", \"duration\": \"0:01:19\", \"iteration\": \"22\", \"goal\": \"AUC_weighted_max\", \"run_name\": \"MaxAbsScaler, ExtremeRandomTrees\", \"run_properties\": \"copy=True\", \"primary_metric\": 0.98988655, \"best_metric\": 0.99579219}, {\"run_id\": \"AutoML_7d9aec74-330e-4112-b25c-42a09ee2a3d2_23\", \"run_number\": 28, \"metric\": null, \"status\": \"Completed\", \"run_type\": \"azureml.scriptrun\", \"training_percent\": \"100\", \"start_time\": \"2021-03-26T07:17:44.152087Z\", \"end_time\": \"2021-03-26T07:18:47.241955Z\", \"created_time\": \"2021-03-26T07:17:27.860356Z\", \"created_time_dt\": \"2021-03-26T07:17:27.860356Z\", \"duration\": \"0:01:19\", \"iteration\": \"23\", \"goal\": \"AUC_weighted_max\", \"run_name\": \"RobustScaler, SVM\", \"run_properties\": \"copy=True, quantile_range=[10, 90], with_centering=False,\\n             with_scaling=True\", \"primary_metric\": 0.99467713, \"best_metric\": 0.99579219}, {\"run_id\": \"AutoML_7d9aec74-330e-4112-b25c-42a09ee2a3d2_24\", \"run_number\": 29, \"metric\": null, \"status\": \"Completed\", \"run_type\": \"azureml.scriptrun\", \"training_percent\": \"100\", \"start_time\": \"2021-03-26T07:18:36.530064Z\", \"end_time\": \"2021-03-26T07:19:31.009185Z\", \"created_time\": \"2021-03-26T07:17:33.477786Z\", \"created_time_dt\": \"2021-03-26T07:17:33.477786Z\", \"duration\": \"0:01:57\", \"iteration\": \"24\", \"goal\": \"AUC_weighted_max\", \"run_name\": \"StandardScalerWrapper, LogisticRegression\", \"run_properties\": \"<azureml.automl.runtime.shared.model_wrappers.StandardScalerWrapper object at 0x7f01775c78d0\", \"primary_metric\": 0.99529717, \"best_metric\": 0.99579219}, {\"run_id\": \"AutoML_7d9aec74-330e-4112-b25c-42a09ee2a3d2_25\", \"run_number\": 30, \"metric\": null, \"status\": \"Completed\", \"run_type\": \"azureml.scriptrun\", \"training_percent\": \"100\", \"start_time\": \"2021-03-26T07:18:40.232568Z\", \"end_time\": \"2021-03-26T07:19:56.075462Z\", \"created_time\": \"2021-03-26T07:18:23.651887Z\", \"created_time_dt\": \"2021-03-26T07:18:23.651887Z\", \"duration\": \"0:01:32\", \"iteration\": \"25\", \"goal\": \"AUC_weighted_max\", \"run_name\": \"PCA, SGD\", \"run_properties\": \"copy=True, iterated_power='auto', n_components=0.10894736842105263,\\n    random_state=None, svd_solver='auto', tol=0.0, whiten=True\", \"primary_metric\": 0.52578521, \"best_metric\": 0.99579219}, {\"run_id\": \"AutoML_7d9aec74-330e-4112-b25c-42a09ee2a3d2_26\", \"run_number\": 31, \"metric\": null, \"status\": \"Completed\", \"run_type\": \"azureml.scriptrun\", \"training_percent\": \"100\", \"start_time\": \"2021-03-26T07:18:50.983019Z\", \"end_time\": \"2021-03-26T07:19:47.163331Z\", \"created_time\": \"2021-03-26T07:18:28.63325Z\", \"created_time_dt\": \"2021-03-26T07:18:28.63325Z\", \"duration\": \"0:01:18\", \"iteration\": \"26\", \"goal\": \"AUC_weighted_max\", \"run_name\": \"StandardScalerWrapper, RandomForest\", \"run_properties\": \"<azureml.automl.runtime.shared.model_wrappers.StandardScalerWrapper object at 0x7f9abddff860\", \"primary_metric\": 0.99119771, \"best_metric\": 0.99579219}, {\"run_id\": \"AutoML_7d9aec74-330e-4112-b25c-42a09ee2a3d2_27\", \"run_number\": 32, \"metric\": null, \"status\": \"Completed\", \"run_type\": \"azureml.scriptrun\", \"training_percent\": \"100\", \"start_time\": \"2021-03-26T07:19:01.601493Z\", \"end_time\": \"2021-03-26T07:20:17.225902Z\", \"created_time\": \"2021-03-26T07:18:39.140066Z\", \"created_time_dt\": \"2021-03-26T07:18:39.140066Z\", \"duration\": \"0:01:38\", \"iteration\": \"27\", \"goal\": \"AUC_weighted_max\", \"run_name\": \"MaxAbsScaler, LightGBM\", \"run_properties\": \"copy=True\", \"primary_metric\": 0.9912513, \"best_metric\": 0.99579219}, {\"run_id\": \"AutoML_7d9aec74-330e-4112-b25c-42a09ee2a3d2_28\", \"run_number\": 33, \"metric\": null, \"status\": \"Canceled\", \"run_type\": \"azureml.scriptrun\", \"training_percent\": \"100\", \"start_time\": \"2021-03-26T07:19:52.103257Z\", \"end_time\": \"2021-03-26T07:30:02.811089Z\", \"created_time\": \"2021-03-26T07:18:51.654808Z\", \"created_time_dt\": \"2021-03-26T07:18:51.654808Z\", \"duration\": \"0:11:11\", \"iteration\": \"28\", \"goal\": \"AUC_weighted_max\", \"run_name\": \"RobustScaler, LightGBM\", \"run_properties\": \"copy=True, quantile_range=[10, 90], with_centering=False,\\n             with_scaling=False\", \"primary_metric\": 0.99288489, \"best_metric\": 0.99579219}, {\"run_id\": \"AutoML_7d9aec74-330e-4112-b25c-42a09ee2a3d2_29\", \"run_number\": 34, \"metric\": null, \"status\": \"Completed\", \"run_type\": \"azureml.scriptrun\", \"training_percent\": \"100\", \"start_time\": \"2021-03-26T07:20:01.291329Z\", \"end_time\": \"2021-03-26T07:20:44.948481Z\", \"created_time\": \"2021-03-26T07:19:33.172804Z\", \"created_time_dt\": \"2021-03-26T07:19:33.172804Z\", \"duration\": \"0:01:11\", \"iteration\": \"29\", \"goal\": \"AUC_weighted_max\", \"run_name\": \"StandardScalerWrapper, XGBoostClassifier\", \"run_properties\": \"<azureml.automl.runtime.shared.model_wrappers.StandardScalerWrapper object at 0x7f58d5a88ba8\", \"primary_metric\": 0.99174913, \"best_metric\": 0.99579219}, {\"run_id\": \"AutoML_7d9aec74-330e-4112-b25c-42a09ee2a3d2_30\", \"run_number\": 35, \"metric\": null, \"status\": \"Completed\", \"run_type\": \"azureml.scriptrun\", \"training_percent\": \"100\", \"start_time\": \"2021-03-26T07:20:15.844772Z\", \"end_time\": \"2021-03-26T07:21:05.748572Z\", \"created_time\": \"2021-03-26T07:19:50.999158Z\", \"created_time_dt\": \"2021-03-26T07:19:50.999158Z\", \"duration\": \"0:01:14\", \"iteration\": \"30\", \"goal\": \"AUC_weighted_max\", \"run_name\": \"StandardScalerWrapper, SGD\", \"run_properties\": \"<azureml.automl.runtime.shared.model_wrappers.StandardScalerWrapper object at 0x7ff21bba2898\", \"primary_metric\": 0.51846659, \"best_metric\": 0.99579219}, {\"run_id\": \"AutoML_7d9aec74-330e-4112-b25c-42a09ee2a3d2_31\", \"run_number\": 36, \"metric\": null, \"status\": \"Completed\", \"run_type\": \"azureml.scriptrun\", \"training_percent\": \"100\", \"start_time\": \"2021-03-26T07:20:35.108947Z\", \"end_time\": \"2021-03-26T07:21:21.335487Z\", \"created_time\": \"2021-03-26T07:20:00.826017Z\", \"created_time_dt\": \"2021-03-26T07:20:00.826017Z\", \"duration\": \"0:01:20\", \"iteration\": \"31\", \"goal\": \"AUC_weighted_max\", \"run_name\": \"MaxAbsScaler, LightGBM\", \"run_properties\": \"copy=True\", \"primary_metric\": 0.99147599, \"best_metric\": 0.99579219}, {\"run_id\": \"AutoML_7d9aec74-330e-4112-b25c-42a09ee2a3d2_32\", \"run_number\": 37, \"metric\": null, \"status\": \"Completed\", \"run_type\": \"azureml.scriptrun\", \"training_percent\": \"100\", \"start_time\": \"2021-03-26T07:21:00.91939Z\", \"end_time\": \"2021-03-26T07:21:55.290629Z\", \"created_time\": \"2021-03-26T07:20:19.891216Z\", \"created_time_dt\": \"2021-03-26T07:20:19.891216Z\", \"duration\": \"0:01:35\", \"iteration\": \"32\", \"goal\": \"AUC_weighted_max\", \"run_name\": \"StandardScalerWrapper, LogisticRegression\", \"run_properties\": \"<azureml.automl.runtime.shared.model_wrappers.StandardScalerWrapper object at 0x7f2fa7823b38\", \"primary_metric\": 0.99516442, \"best_metric\": 0.99579219}, {\"run_id\": \"AutoML_7d9aec74-330e-4112-b25c-42a09ee2a3d2_33\", \"run_number\": 38, \"metric\": null, \"status\": \"Completed\", \"run_type\": \"azureml.scriptrun\", \"training_percent\": \"100\", \"start_time\": \"2021-03-26T07:21:20.559984Z\", \"end_time\": \"2021-03-26T07:22:10.310618Z\", \"created_time\": \"2021-03-26T07:20:48.479091Z\", \"created_time_dt\": \"2021-03-26T07:20:48.479091Z\", \"duration\": \"0:01:21\", \"iteration\": \"33\", \"goal\": \"AUC_weighted_max\", \"run_name\": \"StandardScalerWrapper, LogisticRegression\", \"run_properties\": \"<azureml.automl.runtime.shared.model_wrappers.StandardScalerWrapper object at 0x7f712e3d5710\", \"primary_metric\": 0.98409982, \"best_metric\": 0.99579219}, {\"run_id\": \"AutoML_7d9aec74-330e-4112-b25c-42a09ee2a3d2_34\", \"run_number\": 39, \"metric\": null, \"status\": \"Completed\", \"run_type\": \"azureml.scriptrun\", \"training_percent\": \"100\", \"start_time\": \"2021-03-26T07:21:35.372821Z\", \"end_time\": \"2021-03-26T07:22:21.67799Z\", \"created_time\": \"2021-03-26T07:21:08.298289Z\", \"created_time_dt\": \"2021-03-26T07:21:08.298289Z\", \"duration\": \"0:01:13\", \"iteration\": \"34\", \"goal\": \"AUC_weighted_max\", \"run_name\": \"RobustScaler, SVM\", \"run_properties\": \"copy=True, quantile_range=[25, 75], with_centering=False,\\n             with_scaling=True\", \"primary_metric\": 0.9965075, \"best_metric\": 0.9965075}, {\"run_id\": \"AutoML_7d9aec74-330e-4112-b25c-42a09ee2a3d2_35\", \"run_number\": 40, \"metric\": null, \"status\": \"Canceled\", \"run_type\": \"azureml.scriptrun\", \"training_percent\": \"100\", \"start_time\": \"2021-03-26T07:22:11.592551Z\", \"end_time\": \"2021-03-26T07:29:57.900937Z\", \"created_time\": \"2021-03-26T07:21:24.646413Z\", \"created_time_dt\": \"2021-03-26T07:21:24.646413Z\", \"duration\": \"0:08:33\", \"iteration\": \"35\", \"goal\": \"AUC_weighted_max\", \"run_name\": \"RobustScaler, SGD\", \"run_properties\": \"copy=True, quantile_range=[25, 75], with_centering=False,\\n             with_scaling=False\", \"primary_metric\": 0.5, \"best_metric\": 0.9965075}, {\"run_id\": \"AutoML_7d9aec74-330e-4112-b25c-42a09ee2a3d2_36\", \"run_number\": 41, \"metric\": null, \"status\": \"Canceled\", \"run_type\": \"azureml.scriptrun\", \"training_percent\": \"100\", \"start_time\": \"2021-03-26T07:22:24.776601Z\", \"end_time\": \"2021-03-26T07:29:58.384644Z\", \"created_time\": \"2021-03-26T07:21:58.528427Z\", \"created_time_dt\": \"2021-03-26T07:21:58.528427Z\", \"duration\": \"0:07:59\", \"iteration\": \"36\", \"goal\": \"AUC_weighted_max\", \"run_name\": \"StandardScalerWrapper, XGBoostClassifier\", \"run_properties\": \"<azureml.automl.runtime.shared.model_wrappers.StandardScalerWrapper object at 0x7f6446ad1080\", \"primary_metric\": 0.99099951, \"best_metric\": 0.9965075}, {\"run_id\": \"AutoML_7d9aec74-330e-4112-b25c-42a09ee2a3d2_37\", \"run_number\": 42, \"metric\": null, \"status\": \"Completed\", \"run_type\": \"azureml.scriptrun\", \"training_percent\": \"100\", \"start_time\": \"2021-03-26T07:22:39.179294Z\", \"end_time\": \"2021-03-26T07:23:32.05657Z\", \"created_time\": \"2021-03-26T07:22:13.596176Z\", \"created_time_dt\": \"2021-03-26T07:22:13.596176Z\", \"duration\": \"0:01:18\", \"iteration\": \"37\", \"goal\": \"AUC_weighted_max\", \"run_name\": \"StandardScalerWrapper, XGBoostClassifier\", \"run_properties\": \"<azureml.automl.runtime.shared.model_wrappers.StandardScalerWrapper object at 0x7f746c7077f0\", \"primary_metric\": 0.99292394, \"best_metric\": 0.9965075}, {\"run_id\": \"AutoML_7d9aec74-330e-4112-b25c-42a09ee2a3d2_38\", \"run_number\": 43, \"metric\": null, \"status\": \"Completed\", \"run_type\": \"azureml.scriptrun\", \"training_percent\": \"100\", \"start_time\": \"2021-03-26T07:23:45.478221Z\", \"end_time\": \"2021-03-26T07:24:35.594951Z\", \"created_time\": \"2021-03-26T07:22:29.668283Z\", \"created_time_dt\": \"2021-03-26T07:22:29.668283Z\", \"duration\": \"0:02:05\", \"iteration\": \"38\", \"goal\": \"AUC_weighted_max\", \"run_name\": \"SparseNormalizer, XGBoostClassifier\", \"run_properties\": \"<azureml.automl.runtime.shared.model_wrappers.SparseNormalizer object at 0x7f3217ff7320\", \"primary_metric\": 0.98325977, \"best_metric\": 0.9965075}, {\"run_id\": \"AutoML_7d9aec74-330e-4112-b25c-42a09ee2a3d2_39\", \"run_number\": 44, \"metric\": null, \"status\": \"Completed\", \"run_type\": \"azureml.scriptrun\", \"training_percent\": \"100\", \"start_time\": \"2021-03-26T07:24:53.639616Z\", \"end_time\": \"2021-03-26T07:25:43.432603Z\", \"created_time\": \"2021-03-26T07:23:34.744731Z\", \"created_time_dt\": \"2021-03-26T07:23:34.744731Z\", \"duration\": \"0:02:08\", \"iteration\": \"39\", \"goal\": \"AUC_weighted_max\", \"run_name\": \"StandardScalerWrapper, XGBoostClassifier\", \"run_properties\": \"<azureml.automl.runtime.shared.model_wrappers.StandardScalerWrapper object at 0x7fe8b91f72b0\", \"primary_metric\": 0.98940938, \"best_metric\": 0.9965075}, {\"run_id\": \"AutoML_7d9aec74-330e-4112-b25c-42a09ee2a3d2_40\", \"run_number\": 45, \"metric\": null, \"status\": \"Completed\", \"run_type\": \"azureml.scriptrun\", \"training_percent\": \"100\", \"start_time\": \"2021-03-26T07:26:00.36772Z\", \"end_time\": \"2021-03-26T07:26:50.571821Z\", \"created_time\": \"2021-03-26T07:24:39.161609Z\", \"created_time_dt\": \"2021-03-26T07:24:39.161609Z\", \"duration\": \"0:02:11\", \"iteration\": \"40\", \"goal\": \"AUC_weighted_max\", \"run_name\": \"StandardScalerWrapper, SVM\", \"run_properties\": \"<azureml.automl.runtime.shared.model_wrappers.StandardScalerWrapper object at 0x7f5227b0b860\", \"primary_metric\": 0.44517859, \"best_metric\": 0.9965075}, {\"run_id\": \"AutoML_7d9aec74-330e-4112-b25c-42a09ee2a3d2_41\", \"run_number\": 46, \"metric\": null, \"status\": \"Completed\", \"run_type\": \"azureml.scriptrun\", \"training_percent\": \"100\", \"start_time\": \"2021-03-26T07:27:01.617671Z\", \"end_time\": \"2021-03-26T07:27:46.994376Z\", \"created_time\": \"2021-03-26T07:25:47.149852Z\", \"created_time_dt\": \"2021-03-26T07:25:47.149852Z\", \"duration\": \"0:01:59\", \"iteration\": \"41\", \"goal\": \"AUC_weighted_max\", \"run_name\": \"MaxAbsScaler, GradientBoosting\", \"run_properties\": \"copy=True\", \"primary_metric\": 0.99455155, \"best_metric\": 0.9965075}, {\"run_id\": \"AutoML_7d9aec74-330e-4112-b25c-42a09ee2a3d2_42\", \"run_number\": 47, \"metric\": null, \"status\": \"Completed\", \"run_type\": \"azureml.scriptrun\", \"training_percent\": \"100\", \"start_time\": \"2021-03-26T07:28:03.118222Z\", \"end_time\": \"2021-03-26T07:28:56.26353Z\", \"created_time\": \"2021-03-26T07:26:52.790051Z\", \"created_time_dt\": \"2021-03-26T07:26:52.790051Z\", \"duration\": \"0:02:03\", \"iteration\": \"42\", \"goal\": \"AUC_weighted_max\", \"run_name\": \"StandardScalerWrapper, XGBoostClassifier\", \"run_properties\": \"<azureml.automl.runtime.shared.model_wrappers.StandardScalerWrapper object at 0x7f288079a860\", \"primary_metric\": 0.99240561, \"best_metric\": 0.9965075}, {\"run_id\": \"AutoML_7d9aec74-330e-4112-b25c-42a09ee2a3d2_43\", \"run_number\": 48, \"metric\": null, \"status\": \"Canceled\", \"run_type\": \"azureml.scriptrun\", \"training_percent\": \"100\", \"start_time\": \"2021-03-26T07:29:14.722255Z\", \"end_time\": \"2021-03-26T07:29:55.568907Z\", \"created_time\": \"2021-03-26T07:27:50.53423Z\", \"created_time_dt\": \"2021-03-26T07:27:50.53423Z\", \"duration\": \"0:02:05\", \"iteration\": \"43\", \"goal\": \"AUC_weighted_max\", \"run_name\": \"StandardScalerWrapper, XGBoostClassifier\", \"run_properties\": \"<azureml.automl.runtime.shared.model_wrappers.StandardScalerWrapper object at 0x7f4660681208\", \"primary_metric\": 0.99402347, \"best_metric\": 0.9965075}, {\"run_id\": \"AutoML_7d9aec74-330e-4112-b25c-42a09ee2a3d2_44\", \"run_number\": 49, \"metric\": null, \"status\": \"Canceled\", \"run_type\": \"azureml.scriptrun\", \"training_percent\": \"100\", \"start_time\": \"2021-03-26T07:28:59.131832Z\", \"end_time\": \"2021-03-26T07:29:54.379006Z\", \"created_time\": \"2021-03-26T07:28:59.131832Z\", \"created_time_dt\": \"2021-03-26T07:28:59.131832Z\", \"duration\": \"0:00:55\", \"iteration\": \"44\", \"goal\": null, \"run_name\": \"Canceled\", \"run_properties\": null}, {\"run_id\": \"AutoML_7d9aec74-330e-4112-b25c-42a09ee2a3d2_45\", \"run_number\": 50, \"metric\": null, \"status\": \"Completed\", \"run_type\": \"azureml.scriptrun\", \"training_percent\": \"100\", \"start_time\": \"2021-03-26T07:30:14.039391Z\", \"end_time\": \"2021-03-26T07:39:59.940375Z\", \"created_time\": \"2021-03-26T07:30:03.656442Z\", \"created_time_dt\": \"2021-03-26T07:30:03.656442Z\", \"duration\": \"0:09:56\", \"iteration\": \"45\", \"goal\": \"AUC_weighted_max\", \"run_name\": \"VotingEnsemble\", \"run_properties\": \"classification_labels=None,\\n                              estimators=[('34',\\n                                           Pipeline(memory=None,\\n                                                    steps=[('robustscaler',\\n                                                            RobustScaler(copy=True,\\n                                                                         quantile_range=[25,\\n                                                                                         75],\\n                                                                         with_centering=False,\\n                                                                         with_scaling=True\", \"primary_metric\": 0.99728745, \"best_metric\": 0.99728745}, {\"run_id\": \"AutoML_7d9aec74-330e-4112-b25c-42a09ee2a3d2_46\", \"run_number\": 51, \"metric\": null, \"status\": \"Completed\", \"run_type\": \"azureml.scriptrun\", \"training_percent\": \"100\", \"start_time\": \"2021-03-26T07:30:14.839035Z\", \"end_time\": \"2021-03-26T07:39:55.751388Z\", \"created_time\": \"2021-03-26T07:30:03.732258Z\", \"created_time_dt\": \"2021-03-26T07:30:03.732258Z\", \"duration\": \"0:09:52\", \"iteration\": \"46\", \"goal\": \"AUC_weighted_max\", \"run_name\": \"StackEnsemble\", \"run_properties\": \"base_learners=[('34',\\n                                        Pipeline(memory=None,\\n                                                 steps=[('robustscaler',\\n                                                         RobustScaler(copy=True,\\n                                                                      quantile_range=[25,\\n                                                                                      75],\\n                                                                      with_centering=False,\\n                                                                      with_scaling=True\", \"primary_metric\": 0.99568657, \"best_metric\": 0.99728745}], \"children_metrics\": {\"categories\": [0], \"series\": {\"AUC_weighted\": [{\"categories\": [\"0\", \"1\", \"2\", \"3\", \"4\", \"5\", \"6\", \"7\", \"8\", \"9\", \"10\", \"11\", \"12\", \"13\", \"14\", \"15\", \"16\", \"17\", \"18\", \"19\", \"20\", \"21\", \"22\", \"23\", \"24\", \"25\", \"26\", \"27\", \"28\", \"29\", \"30\", \"31\", \"32\", \"33\", \"34\", \"35\", \"36\", \"37\", \"38\", \"39\", \"40\", \"41\", \"42\", \"43\", \"45\", \"46\"], \"mode\": \"markers\", \"name\": \"AUC_weighted\", \"stepped\": false, \"type\": \"scatter\", \"data\": [0.9937825942054515, 0.9944346969593132, 0.9874593797285243, 0.9906116365918081, 0.9914747907632133, 0.9840828189769262, 0.9887934136760194, 0.9875602494687131, 0.9889147118397995, 0.962171854101109, 0.991041524513518, 0.9869341932509051, 0.987669232087993, 0.9957921873277996, 0.9849880179158861, 0.9057944514874272, 0.9873546340116628, 0.9863743292359913, 0.986806422897528, 0.9899492706781039, 0.9894326433798903, 0.9872382349424742, 0.9898865473480205, 0.9946771335390261, 0.9952971671100499, 0.5257852068030278, 0.9911977110772463, 0.991251300032682, 0.992884891718614, 0.9917491262447398, 0.5184665931358334, 0.9914759858033738, 0.9951644169744227, 0.984099817917593, 0.9965074956066005, 0.5, 0.9909995105495388, 0.992923944838713, 0.9832597741285365, 0.9894093776647754, 0.44517858772022956, 0.9945515477694817, 0.9924056131183354, 0.9940234702535526, 0.9972874525304194, 0.9956865666525825]}, {\"categories\": [\"0\", \"1\", \"2\", \"3\", \"4\", \"5\", \"6\", \"7\", \"8\", \"9\", \"10\", \"11\", \"12\", \"13\", \"14\", \"15\", \"16\", \"17\", \"18\", \"19\", \"20\", \"21\", \"22\", \"23\", \"24\", \"25\", \"26\", \"27\", \"28\", \"29\", \"30\", \"31\", \"32\", \"33\", \"34\", \"35\", \"36\", \"37\", \"38\", \"39\", \"40\", \"41\", \"42\", \"43\", \"45\", \"46\"], \"mode\": \"lines\", \"name\": \"AUC_weighted_max\", \"stepped\": true, \"type\": \"scatter\", \"data\": [0.9937825942054515, 0.9944346969593132, 0.9944346969593132, 0.9944346969593132, 0.9944346969593132, 0.9944346969593132, 0.9944346969593132, 0.9944346969593132, 0.9944346969593132, 0.9944346969593132, 0.9944346969593132, 0.9944346969593132, 0.9944346969593132, 0.9957921873277996, 0.9957921873277996, 0.9957921873277996, 0.9957921873277996, 0.9957921873277996, 0.9957921873277996, 0.9957921873277996, 0.9957921873277996, 0.9957921873277996, 0.9957921873277996, 0.9957921873277996, 0.9957921873277996, 0.9957921873277996, 0.9957921873277996, 0.9957921873277996, 0.9957921873277996, 0.9957921873277996, 0.9957921873277996, 0.9957921873277996, 0.9957921873277996, 0.9957921873277996, 0.9965074956066005, 0.9965074956066005, 0.9965074956066005, 0.9965074956066005, 0.9965074956066005, 0.9965074956066005, 0.9965074956066005, 0.9965074956066005, 0.9965074956066005, 0.9965074956066005, 0.9972874525304194, 0.9972874525304194]}], \"precision_score_weighted\": [{\"categories\": [\"0\", \"1\", \"2\", \"3\", \"4\", \"5\", \"6\", \"7\", \"8\", \"9\", \"10\", \"11\", \"12\", \"13\", \"14\", \"15\", \"16\", \"17\", \"18\", \"19\", \"20\", \"21\", \"22\", \"23\", \"24\", \"25\", \"26\", \"27\", \"28\", \"29\", \"30\", \"31\", \"32\", \"33\", \"34\", \"35\", \"36\", \"37\", \"38\", \"39\", \"40\", \"41\", \"42\", \"43\", \"45\", \"46\"], \"mode\": \"markers\", \"name\": \"precision_score_weighted\", \"stepped\": false, \"type\": \"scatter\", \"data\": [0.9711872698050765, 0.9690178621066323, 0.9437093984832281, 0.9579641105544278, 0.9505121936649266, 0.9360415475794543, 0.9532861645455629, 0.9434295055076788, 0.9586175664953978, 0.9156040698672996, 0.9480241061363831, 0.9427853053388608, 0.9400897758029899, 0.979573632546278, 0.9480872531332489, 0.8437940779569184, 0.9467540676557704, 0.9438217864348981, 0.9571705690250581, 0.9533681179866121, 0.9562767751970538, 0.9468555482657377, 0.9568269532003084, 0.9794210725225762, 0.9814964417059293, 0.3847371851813466, 0.9562470700667294, 0.9711589470471049, 0.9665513433391639, 0.9595672862712336, 0.5759341421390312, 0.9655020939467706, 0.9832731055878563, 0.9550429068164196, 0.9831831212629323, 0.22112157940276758, 0.9548593883636813, 0.9629395615781439, 0.9250970618118967, 0.9544991380599152, 0.3973766348131537, 0.9710350789634525, 0.9594356575873977, 0.973128673020718, 0.9817471697405908, 0.6331842732594612]}, {\"categories\": [\"0\", \"1\", \"2\", \"3\", \"4\", \"5\", \"6\", \"7\", \"8\", \"9\", \"10\", \"11\", \"12\", \"13\", \"14\", \"15\", \"16\", \"17\", \"18\", \"19\", \"20\", \"21\", \"22\", \"23\", \"24\", \"25\", \"26\", \"27\", \"28\", \"29\", \"30\", \"31\", \"32\", \"33\", \"34\", \"35\", \"36\", \"37\", \"38\", \"39\", \"40\", \"41\", \"42\", \"43\", \"45\", \"46\"], \"mode\": \"lines\", \"name\": \"precision_score_weighted_max\", \"stepped\": true, \"type\": \"scatter\", \"data\": [0.9711872698050765, 0.9711872698050765, 0.9711872698050765, 0.9711872698050765, 0.9711872698050765, 0.9711872698050765, 0.9711872698050765, 0.9711872698050765, 0.9711872698050765, 0.9711872698050765, 0.9711872698050765, 0.9711872698050765, 0.9711872698050765, 0.979573632546278, 0.979573632546278, 0.979573632546278, 0.979573632546278, 0.979573632546278, 0.979573632546278, 0.979573632546278, 0.979573632546278, 0.979573632546278, 0.979573632546278, 0.979573632546278, 0.9814964417059293, 0.9814964417059293, 0.9814964417059293, 0.9814964417059293, 0.9814964417059293, 0.9814964417059293, 0.9814964417059293, 0.9814964417059293, 0.9832731055878563, 0.9832731055878563, 0.9832731055878563, 0.9832731055878563, 0.9832731055878563, 0.9832731055878563, 0.9832731055878563, 0.9832731055878563, 0.9832731055878563, 0.9832731055878563, 0.9832731055878563, 0.9832731055878563, 0.9832731055878563, 0.9832731055878563]}], \"precision_score_macro\": [{\"categories\": [\"0\", \"1\", \"2\", \"3\", \"4\", \"5\", \"6\", \"7\", \"8\", \"9\", \"10\", \"11\", \"12\", \"13\", \"14\", \"15\", \"16\", \"17\", \"18\", \"19\", \"20\", \"21\", \"22\", \"23\", \"24\", \"25\", \"26\", \"27\", \"28\", \"29\", \"30\", \"31\", \"32\", \"33\", \"34\", \"35\", \"36\", \"37\", \"38\", \"39\", \"40\", \"41\", \"42\", \"43\", \"45\", \"46\"], \"mode\": \"markers\", \"name\": \"precision_score_macro\", \"stepped\": false, \"type\": \"scatter\", \"data\": [0.973610649955581, 0.9695557476743023, 0.9402336578358709, 0.9606835472462244, 0.9455126502983673, 0.9337243425426, 0.9550731061888351, 0.9430081877140701, 0.9586070945099042, 0.9159195021075608, 0.9474571625504918, 0.9362388302189061, 0.930414417613988, 0.979732729352451, 0.9387887963986529, 0.8616266707378367, 0.9441043099057804, 0.937036738263569, 0.9501923257546657, 0.9500994099596556, 0.9537975585935572, 0.9344074440000035, 0.9508691586723875, 0.9804312865497076, 0.9812729460801677, 0.3481133389028126, 0.9532960168916051, 0.9697015172916336, 0.966469832621985, 0.9570971299372463, 0.5568960466297668, 0.9625840355125039, 0.9825944669365724, 0.9500944814048866, 0.9828935377844236, 0.22595551378446116, 0.9565004831267071, 0.96371226334936, 0.9236151432635082, 0.9508525993703453, 0.3434976329713172, 0.970516597165924, 0.958762893328219, 0.9751182651474066, 0.981425518925519, 0.5786681447207763]}, {\"categories\": [\"0\", \"1\", \"2\", \"3\", \"4\", \"5\", \"6\", \"7\", \"8\", \"9\", \"10\", \"11\", \"12\", \"13\", \"14\", \"15\", \"16\", \"17\", \"18\", \"19\", \"20\", \"21\", \"22\", \"23\", \"24\", \"25\", \"26\", \"27\", \"28\", \"29\", \"30\", \"31\", \"32\", \"33\", \"34\", \"35\", \"36\", \"37\", \"38\", \"39\", \"40\", \"41\", \"42\", \"43\", \"45\", \"46\"], \"mode\": \"lines\", \"name\": \"precision_score_macro_max\", \"stepped\": true, \"type\": \"scatter\", \"data\": [0.973610649955581, 0.973610649955581, 0.973610649955581, 0.973610649955581, 0.973610649955581, 0.973610649955581, 0.973610649955581, 0.973610649955581, 0.973610649955581, 0.973610649955581, 0.973610649955581, 0.973610649955581, 0.973610649955581, 0.979732729352451, 0.979732729352451, 0.979732729352451, 0.979732729352451, 0.979732729352451, 0.979732729352451, 0.979732729352451, 0.979732729352451, 0.979732729352451, 0.979732729352451, 0.9804312865497076, 0.9812729460801677, 0.9812729460801677, 0.9812729460801677, 0.9812729460801677, 0.9812729460801677, 0.9812729460801677, 0.9812729460801677, 0.9812729460801677, 0.9825944669365724, 0.9825944669365724, 0.9828935377844236, 0.9828935377844236, 0.9828935377844236, 0.9828935377844236, 0.9828935377844236, 0.9828935377844236, 0.9828935377844236, 0.9828935377844236, 0.9828935377844236, 0.9828935377844236, 0.9828935377844236, 0.9828935377844236]}], \"recall_score_macro\": [{\"categories\": [\"0\", \"1\", \"2\", \"3\", \"4\", \"5\", \"6\", \"7\", \"8\", \"9\", \"10\", \"11\", \"12\", \"13\", \"14\", \"15\", \"16\", \"17\", \"18\", \"19\", \"20\", \"21\", \"22\", \"23\", \"24\", \"25\", \"26\", \"27\", \"28\", \"29\", \"30\", \"31\", \"32\", \"33\", \"34\", \"35\", \"36\", \"37\", \"38\", \"39\", \"40\", \"41\", \"42\", \"43\", \"45\", \"46\"], \"mode\": \"markers\", \"name\": \"recall_score_macro\", \"stepped\": false, \"type\": \"scatter\", \"data\": [0.9627296758725785, 0.9629472609303171, 0.9373255758670987, 0.9452134403470349, 0.9458673124420833, 0.9260454721087342, 0.9442263443615746, 0.933678129682925, 0.94976331539691, 0.8923257115705965, 0.9372936035189128, 0.9364372583172991, 0.9358454647531216, 0.9742045863843766, 0.9453937045035674, 0.7589764776436398, 0.9373974583363225, 0.9394410042161857, 0.9554746200568666, 0.9476587543438566, 0.9491851046588528, 0.9454491068587675, 0.9531853740655747, 0.9754455175938552, 0.9768084511186762, 0.49981092436974794, 0.9485080537116237, 0.9658557615980519, 0.958645485514374, 0.9532448194538615, 0.5184665931358334, 0.9611115429548562, 0.9803798796901046, 0.9525123145870855, 0.9791721502215056, 0.5, 0.943262707401774, 0.9547480834920095, 0.9069745381057348, 0.9477737273136146, 0.49172614895760675, 0.9650112483214734, 0.9525993087089635, 0.9655074536503566, 0.9778798796901047, 0.6804413702239789]}, {\"categories\": [\"0\", \"1\", \"2\", \"3\", \"4\", \"5\", \"6\", \"7\", \"8\", \"9\", \"10\", \"11\", \"12\", \"13\", \"14\", \"15\", \"16\", \"17\", \"18\", \"19\", \"20\", \"21\", \"22\", \"23\", \"24\", \"25\", \"26\", \"27\", \"28\", \"29\", \"30\", \"31\", \"32\", \"33\", \"34\", \"35\", \"36\", \"37\", \"38\", \"39\", \"40\", \"41\", \"42\", \"43\", \"45\", \"46\"], \"mode\": \"lines\", \"name\": \"recall_score_macro_max\", \"stepped\": true, \"type\": \"scatter\", \"data\": [0.9627296758725785, 0.9629472609303171, 0.9629472609303171, 0.9629472609303171, 0.9629472609303171, 0.9629472609303171, 0.9629472609303171, 0.9629472609303171, 0.9629472609303171, 0.9629472609303171, 0.9629472609303171, 0.9629472609303171, 0.9629472609303171, 0.9742045863843766, 0.9742045863843766, 0.9742045863843766, 0.9742045863843766, 0.9742045863843766, 0.9742045863843766, 0.9742045863843766, 0.9742045863843766, 0.9742045863843766, 0.9742045863843766, 0.9754455175938552, 0.9768084511186762, 0.9768084511186762, 0.9768084511186762, 0.9768084511186762, 0.9768084511186762, 0.9768084511186762, 0.9768084511186762, 0.9768084511186762, 0.9803798796901046, 0.9803798796901046, 0.9803798796901046, 0.9803798796901046, 0.9803798796901046, 0.9803798796901046, 0.9803798796901046, 0.9803798796901046, 0.9803798796901046, 0.9803798796901046, 0.9803798796901046, 0.9803798796901046, 0.9803798796901046, 0.9803798796901046]}], \"precision_score_micro\": [{\"categories\": [\"0\", \"1\", \"2\", \"3\", \"4\", \"5\", \"6\", \"7\", \"8\", \"9\", \"10\", \"11\", \"12\", \"13\", \"14\", \"15\", \"16\", \"17\", \"18\", \"19\", \"20\", \"21\", \"22\", \"23\", \"24\", \"25\", \"26\", \"27\", \"28\", \"29\", \"30\", \"31\", \"32\", \"33\", \"34\", \"35\", \"36\", \"37\", \"38\", \"39\", \"40\", \"41\", \"42\", \"43\", \"45\", \"46\"], \"mode\": \"markers\", \"name\": \"precision_score_micro\", \"stepped\": false, \"type\": \"scatter\", \"data\": [0.970081453634085, 0.968295739348371, 0.9419799498746867, 0.956077694235589, 0.948966165413534, 0.9331453634085213, 0.9525062656641603, 0.9419486215538848, 0.9578007518796993, 0.9085526315789473, 0.9453947368421053, 0.9401942355889725, 0.936685463659148, 0.9788533834586465, 0.9454887218045114, 0.8153508771929825, 0.9454573934837093, 0.9419172932330827, 0.9559837092731831, 0.9507518796992482, 0.9542293233082708, 0.943703007518797, 0.9559837092731829, 0.9788220551378446, 0.9806077694235589, 0.4992794486215539, 0.9542919799498746, 0.9700814536340852, 0.9647869674185463, 0.9578007518796993, 0.5853070175438596, 0.9648182957393484, 0.9823621553884712, 0.9541979949874685, 0.982393483709273, 0.4519110275689223, 0.9525062656641603, 0.96124686716792, 0.9225877192982456, 0.9525375939849624, 0.5340538847117794, 0.9700501253132833, 0.9577380952380953, 0.9718358395989976, 0.9806077694235589, 0.7682957393483709]}, {\"categories\": [\"0\", \"1\", \"2\", \"3\", \"4\", \"5\", \"6\", \"7\", \"8\", \"9\", \"10\", \"11\", \"12\", \"13\", \"14\", \"15\", \"16\", \"17\", \"18\", \"19\", \"20\", \"21\", \"22\", \"23\", \"24\", \"25\", \"26\", \"27\", \"28\", \"29\", \"30\", \"31\", \"32\", \"33\", \"34\", \"35\", \"36\", \"37\", \"38\", \"39\", \"40\", \"41\", \"42\", \"43\", \"45\", \"46\"], \"mode\": \"lines\", \"name\": \"precision_score_micro_max\", \"stepped\": true, \"type\": \"scatter\", \"data\": [0.970081453634085, 0.970081453634085, 0.970081453634085, 0.970081453634085, 0.970081453634085, 0.970081453634085, 0.970081453634085, 0.970081453634085, 0.970081453634085, 0.970081453634085, 0.970081453634085, 0.970081453634085, 0.970081453634085, 0.9788533834586465, 0.9788533834586465, 0.9788533834586465, 0.9788533834586465, 0.9788533834586465, 0.9788533834586465, 0.9788533834586465, 0.9788533834586465, 0.9788533834586465, 0.9788533834586465, 0.9788533834586465, 0.9806077694235589, 0.9806077694235589, 0.9806077694235589, 0.9806077694235589, 0.9806077694235589, 0.9806077694235589, 0.9806077694235589, 0.9806077694235589, 0.9823621553884712, 0.9823621553884712, 0.982393483709273, 0.982393483709273, 0.982393483709273, 0.982393483709273, 0.982393483709273, 0.982393483709273, 0.982393483709273, 0.982393483709273, 0.982393483709273, 0.982393483709273, 0.982393483709273, 0.982393483709273]}], \"recall_score_micro\": [{\"categories\": [\"0\", \"1\", \"2\", \"3\", \"4\", \"5\", \"6\", \"7\", \"8\", \"9\", \"10\", \"11\", \"12\", \"13\", \"14\", \"15\", \"16\", \"17\", \"18\", \"19\", \"20\", \"21\", \"22\", \"23\", \"24\", \"25\", \"26\", \"27\", \"28\", \"29\", \"30\", \"31\", \"32\", \"33\", \"34\", \"35\", \"36\", \"37\", \"38\", \"39\", \"40\", \"41\", \"42\", \"43\", \"45\", \"46\"], \"mode\": \"markers\", \"name\": \"recall_score_micro\", \"stepped\": false, \"type\": \"scatter\", \"data\": [0.970081453634085, 0.968295739348371, 0.9419799498746867, 0.956077694235589, 0.948966165413534, 0.9331453634085213, 0.9525062656641603, 0.9419486215538848, 0.9578007518796993, 0.9085526315789473, 0.9453947368421053, 0.9401942355889725, 0.936685463659148, 0.9788533834586465, 0.9454887218045114, 0.8153508771929825, 0.9454573934837093, 0.9419172932330827, 0.9559837092731831, 0.9507518796992482, 0.9542293233082708, 0.943703007518797, 0.9559837092731829, 0.9788220551378446, 0.9806077694235589, 0.4992794486215539, 0.9542919799498746, 0.9700814536340852, 0.9647869674185463, 0.9578007518796993, 0.5853070175438596, 0.9648182957393484, 0.9823621553884712, 0.9541979949874685, 0.982393483709273, 0.4519110275689223, 0.9525062656641603, 0.96124686716792, 0.9225877192982456, 0.9525375939849624, 0.5340538847117794, 0.9700501253132833, 0.9577380952380953, 0.9718358395989976, 0.9806077694235589, 0.7682957393483709]}, {\"categories\": [\"0\", \"1\", \"2\", \"3\", \"4\", \"5\", \"6\", \"7\", \"8\", \"9\", \"10\", \"11\", \"12\", \"13\", \"14\", \"15\", \"16\", \"17\", \"18\", \"19\", \"20\", \"21\", \"22\", \"23\", \"24\", \"25\", \"26\", \"27\", \"28\", \"29\", \"30\", \"31\", \"32\", \"33\", \"34\", \"35\", \"36\", \"37\", \"38\", \"39\", \"40\", \"41\", \"42\", \"43\", \"45\", \"46\"], \"mode\": \"lines\", \"name\": \"recall_score_micro_max\", \"stepped\": true, \"type\": \"scatter\", \"data\": [0.970081453634085, 0.970081453634085, 0.970081453634085, 0.970081453634085, 0.970081453634085, 0.970081453634085, 0.970081453634085, 0.970081453634085, 0.970081453634085, 0.970081453634085, 0.970081453634085, 0.970081453634085, 0.970081453634085, 0.9788533834586465, 0.9788533834586465, 0.9788533834586465, 0.9788533834586465, 0.9788533834586465, 0.9788533834586465, 0.9788533834586465, 0.9788533834586465, 0.9788533834586465, 0.9788533834586465, 0.9788533834586465, 0.9806077694235589, 0.9806077694235589, 0.9806077694235589, 0.9806077694235589, 0.9806077694235589, 0.9806077694235589, 0.9806077694235589, 0.9806077694235589, 0.9823621553884712, 0.9823621553884712, 0.982393483709273, 0.982393483709273, 0.982393483709273, 0.982393483709273, 0.982393483709273, 0.982393483709273, 0.982393483709273, 0.982393483709273, 0.982393483709273, 0.982393483709273, 0.982393483709273, 0.982393483709273]}], \"average_precision_score_weighted\": [{\"categories\": [\"0\", \"1\", \"2\", \"3\", \"4\", \"5\", \"6\", \"7\", \"8\", \"9\", \"10\", \"11\", \"12\", \"13\", \"14\", \"15\", \"16\", \"17\", \"18\", \"19\", \"20\", \"21\", \"22\", \"23\", \"24\", \"25\", \"26\", \"27\", \"28\", \"29\", \"30\", \"31\", \"32\", \"33\", \"34\", \"35\", \"36\", \"37\", \"38\", \"39\", \"40\", \"41\", \"42\", \"43\", \"45\", \"46\"], \"mode\": \"markers\", \"name\": \"average_precision_score_weighted\", \"stepped\": false, \"type\": \"scatter\", \"data\": [0.994353561137449, 0.9949607159493279, 0.9884504402127516, 0.9918475264400788, 0.9923068348142745, 0.9846570315947689, 0.988701812327851, 0.9887430689956567, 0.9902466356885011, 0.9600917505159778, 0.99183402590753, 0.9882847978346657, 0.9888122709588816, 0.9962243754715825, 0.9846167385264541, 0.9131268800083134, 0.9882138227029813, 0.987895689048503, 0.9879179853873781, 0.98993466777442, 0.9902197447211085, 0.9887607209674784, 0.9908675410337404, 0.9951335595424512, 0.9957848114420529, 0.5785065502370758, 0.9920781304208155, 0.992714331224736, 0.9936897792395689, 0.9927967481419081, 0.5524450700219121, 0.9927307043935747, 0.9956686703137768, 0.9832744275207601, 0.9968866560007719, 0.5384211036676905, 0.9919895177448355, 0.993583521570302, 0.9844385916705531, 0.9904413611956452, 0.5298809256630206, 0.9950172646281281, 0.9931385942564948, 0.9945995719096864, 0.9975956018750647, 0.9960567876201601]}, {\"categories\": [\"0\", \"1\", \"2\", \"3\", \"4\", \"5\", \"6\", \"7\", \"8\", \"9\", \"10\", \"11\", \"12\", \"13\", \"14\", \"15\", \"16\", \"17\", \"18\", \"19\", \"20\", \"21\", \"22\", \"23\", \"24\", \"25\", \"26\", \"27\", \"28\", \"29\", \"30\", \"31\", \"32\", \"33\", \"34\", \"35\", \"36\", \"37\", \"38\", \"39\", \"40\", \"41\", \"42\", \"43\", \"45\", \"46\"], \"mode\": \"lines\", \"name\": \"average_precision_score_weighted_max\", \"stepped\": true, \"type\": \"scatter\", \"data\": [0.994353561137449, 0.9949607159493279, 0.9949607159493279, 0.9949607159493279, 0.9949607159493279, 0.9949607159493279, 0.9949607159493279, 0.9949607159493279, 0.9949607159493279, 0.9949607159493279, 0.9949607159493279, 0.9949607159493279, 0.9949607159493279, 0.9962243754715825, 0.9962243754715825, 0.9962243754715825, 0.9962243754715825, 0.9962243754715825, 0.9962243754715825, 0.9962243754715825, 0.9962243754715825, 0.9962243754715825, 0.9962243754715825, 0.9962243754715825, 0.9962243754715825, 0.9962243754715825, 0.9962243754715825, 0.9962243754715825, 0.9962243754715825, 0.9962243754715825, 0.9962243754715825, 0.9962243754715825, 0.9962243754715825, 0.9962243754715825, 0.9968866560007719, 0.9968866560007719, 0.9968866560007719, 0.9968866560007719, 0.9968866560007719, 0.9968866560007719, 0.9968866560007719, 0.9968866560007719, 0.9968866560007719, 0.9968866560007719, 0.9975956018750647, 0.9975956018750647]}], \"balanced_accuracy\": [{\"categories\": [\"0\", \"1\", \"2\", \"3\", \"4\", \"5\", \"6\", \"7\", \"8\", \"9\", \"10\", \"11\", \"12\", \"13\", \"14\", \"15\", \"16\", \"17\", \"18\", \"19\", \"20\", \"21\", \"22\", \"23\", \"24\", \"25\", \"26\", \"27\", \"28\", \"29\", \"30\", \"31\", \"32\", \"33\", \"34\", \"35\", \"36\", \"37\", \"38\", \"39\", \"40\", \"41\", \"42\", \"43\", \"45\", \"46\"], \"mode\": \"markers\", \"name\": \"balanced_accuracy\", \"stepped\": false, \"type\": \"scatter\", \"data\": [0.9627296758725785, 0.9629472609303171, 0.9373255758670987, 0.9452134403470349, 0.9458673124420833, 0.9260454721087342, 0.9442263443615746, 0.933678129682925, 0.94976331539691, 0.8923257115705965, 0.9372936035189128, 0.9364372583172991, 0.9358454647531216, 0.9742045863843766, 0.9453937045035674, 0.7589764776436398, 0.9373974583363225, 0.9394410042161857, 0.9554746200568666, 0.9476587543438566, 0.9491851046588528, 0.9454491068587675, 0.9531853740655747, 0.9754455175938552, 0.9768084511186762, 0.49981092436974794, 0.9485080537116237, 0.9658557615980519, 0.958645485514374, 0.9532448194538615, 0.5184665931358334, 0.9611115429548562, 0.9803798796901046, 0.9525123145870855, 0.9791721502215056, 0.5, 0.943262707401774, 0.9547480834920095, 0.9069745381057348, 0.9477737273136146, 0.49172614895760675, 0.9650112483214734, 0.9525993087089635, 0.9655074536503566, 0.9778798796901047, 0.6804413702239789]}, {\"categories\": [\"0\", \"1\", \"2\", \"3\", \"4\", \"5\", \"6\", \"7\", \"8\", \"9\", \"10\", \"11\", \"12\", \"13\", \"14\", \"15\", \"16\", \"17\", \"18\", \"19\", \"20\", \"21\", \"22\", \"23\", \"24\", \"25\", \"26\", \"27\", \"28\", \"29\", \"30\", \"31\", \"32\", \"33\", \"34\", \"35\", \"36\", \"37\", \"38\", \"39\", \"40\", \"41\", \"42\", \"43\", \"45\", \"46\"], \"mode\": \"lines\", \"name\": \"balanced_accuracy_max\", \"stepped\": true, \"type\": \"scatter\", \"data\": [0.9627296758725785, 0.9629472609303171, 0.9629472609303171, 0.9629472609303171, 0.9629472609303171, 0.9629472609303171, 0.9629472609303171, 0.9629472609303171, 0.9629472609303171, 0.9629472609303171, 0.9629472609303171, 0.9629472609303171, 0.9629472609303171, 0.9742045863843766, 0.9742045863843766, 0.9742045863843766, 0.9742045863843766, 0.9742045863843766, 0.9742045863843766, 0.9742045863843766, 0.9742045863843766, 0.9742045863843766, 0.9742045863843766, 0.9754455175938552, 0.9768084511186762, 0.9768084511186762, 0.9768084511186762, 0.9768084511186762, 0.9768084511186762, 0.9768084511186762, 0.9768084511186762, 0.9768084511186762, 0.9803798796901046, 0.9803798796901046, 0.9803798796901046, 0.9803798796901046, 0.9803798796901046, 0.9803798796901046, 0.9803798796901046, 0.9803798796901046, 0.9803798796901046, 0.9803798796901046, 0.9803798796901046, 0.9803798796901046, 0.9803798796901046, 0.9803798796901046]}], \"AUC_macro\": [{\"categories\": [\"0\", \"1\", \"2\", \"3\", \"4\", \"5\", \"6\", \"7\", \"8\", \"9\", \"10\", \"11\", \"12\", \"13\", \"14\", \"15\", \"16\", \"17\", \"18\", \"19\", \"20\", \"21\", \"22\", \"23\", \"24\", \"25\", \"26\", \"27\", \"28\", \"29\", \"30\", \"31\", \"32\", \"33\", \"34\", \"35\", \"36\", \"37\", \"38\", \"39\", \"40\", \"41\", \"42\", \"43\", \"45\", \"46\"], \"mode\": \"markers\", \"name\": \"AUC_macro\", \"stepped\": false, \"type\": \"scatter\", \"data\": [0.9937825942054515, 0.9944346969593132, 0.9874593797285242, 0.9906116365918081, 0.9914747907632133, 0.9840828189769262, 0.9887934136760194, 0.9875602494687132, 0.9889147118397995, 0.962171854101109, 0.991041524513518, 0.986934193250905, 0.987669232087993, 0.9957921873277996, 0.9849880179158861, 0.9057944514874272, 0.9873546340116628, 0.9863743292359913, 0.986806422897528, 0.9899492706781039, 0.9894326433798903, 0.9872382349424743, 0.9898865473480205, 0.9946771335390261, 0.9952971671100499, 0.5257852068030278, 0.9911977110772463, 0.9912513000326821, 0.992884891718614, 0.9917491262447398, 0.5184665931358335, 0.9914759858033738, 0.9951644169744227, 0.984005709127832, 0.9965074956066005, 0.5, 0.9909995105495388, 0.992923944838713, 0.9832597741285365, 0.9894093776647754, 0.44517858772022956, 0.9945515477694817, 0.9924056131183354, 0.9940234702535526, 0.9972874525304194, 0.9956865666525825]}, {\"categories\": [\"0\", \"1\", \"2\", \"3\", \"4\", \"5\", \"6\", \"7\", \"8\", \"9\", \"10\", \"11\", \"12\", \"13\", \"14\", \"15\", \"16\", \"17\", \"18\", \"19\", \"20\", \"21\", \"22\", \"23\", \"24\", \"25\", \"26\", \"27\", \"28\", \"29\", \"30\", \"31\", \"32\", \"33\", \"34\", \"35\", \"36\", \"37\", \"38\", \"39\", \"40\", \"41\", \"42\", \"43\", \"45\", \"46\"], \"mode\": \"lines\", \"name\": \"AUC_macro_max\", \"stepped\": true, \"type\": \"scatter\", \"data\": [0.9937825942054515, 0.9944346969593132, 0.9944346969593132, 0.9944346969593132, 0.9944346969593132, 0.9944346969593132, 0.9944346969593132, 0.9944346969593132, 0.9944346969593132, 0.9944346969593132, 0.9944346969593132, 0.9944346969593132, 0.9944346969593132, 0.9957921873277996, 0.9957921873277996, 0.9957921873277996, 0.9957921873277996, 0.9957921873277996, 0.9957921873277996, 0.9957921873277996, 0.9957921873277996, 0.9957921873277996, 0.9957921873277996, 0.9957921873277996, 0.9957921873277996, 0.9957921873277996, 0.9957921873277996, 0.9957921873277996, 0.9957921873277996, 0.9957921873277996, 0.9957921873277996, 0.9957921873277996, 0.9957921873277996, 0.9957921873277996, 0.9965074956066005, 0.9965074956066005, 0.9965074956066005, 0.9965074956066005, 0.9965074956066005, 0.9965074956066005, 0.9965074956066005, 0.9965074956066005, 0.9965074956066005, 0.9965074956066005, 0.9972874525304194, 0.9972874525304194]}], \"log_loss\": [{\"categories\": [\"0\", \"1\", \"2\", \"3\", \"4\", \"5\", \"6\", \"7\", \"8\", \"9\", \"10\", \"11\", \"12\", \"13\", \"14\", \"15\", \"16\", \"17\", \"18\", \"19\", \"20\", \"21\", \"22\", \"23\", \"24\", \"25\", \"26\", \"27\", \"28\", \"29\", \"30\", \"31\", \"32\", \"33\", \"34\", \"35\", \"36\", \"37\", \"38\", \"39\", \"40\", \"41\", \"42\", \"43\", \"45\", \"46\"], \"mode\": \"markers\", \"name\": \"log_loss\", \"stepped\": false, \"type\": \"scatter\", \"data\": [0.10888666757709387, 0.08515167899094542, 0.1518502681661732, 0.18866401479659023, 0.1299198996355049, 0.2153392433184779, 0.17899040290309426, 0.16450638179750057, 0.1539136339902772, 0.694693107718161, 0.18347743116501655, 0.1800839053854109, 0.1772289185701722, 0.07982752898890055, 0.21289432838374128, 0.55867162353793, 0.20940665374793482, 0.28311268707270765, 0.23279778959738495, 0.29447196237587386, 0.138309070756219, 0.1824722895972509, 0.18973832982758138, 0.08383498583815177, 0.07796964213305894, 0.6887523468090303, 0.12940847476962475, 0.10067521372487258, 0.0905287605159228, 0.1076586358739173, 14.322988193591248, 0.09896188349431549, 0.07523700479799912, 0.36750873863342504, 0.06752069213813966, 18.93032246331336, 0.15058303735592568, 0.098256190950112, 0.16194313607416796, 0.1624759000864461, 0.7342823154158642, 0.0755888342276014, 0.10582091651306294, 0.0835989615329985, 0.08972064190111316, 0.45065102119150513]}, {\"categories\": [\"0\", \"1\", \"2\", \"3\", \"4\", \"5\", \"6\", \"7\", \"8\", \"9\", \"10\", \"11\", \"12\", \"13\", \"14\", \"15\", \"16\", \"17\", \"18\", \"19\", \"20\", \"21\", \"22\", \"23\", \"24\", \"25\", \"26\", \"27\", \"28\", \"29\", \"30\", \"31\", \"32\", \"33\", \"34\", \"35\", \"36\", \"37\", \"38\", \"39\", \"40\", \"41\", \"42\", \"43\", \"45\", \"46\"], \"mode\": \"lines\", \"name\": \"log_loss_min\", \"stepped\": true, \"type\": \"scatter\", \"data\": [0.10888666757709387, 0.08515167899094542, 0.08515167899094542, 0.08515167899094542, 0.08515167899094542, 0.08515167899094542, 0.08515167899094542, 0.08515167899094542, 0.08515167899094542, 0.08515167899094542, 0.08515167899094542, 0.08515167899094542, 0.08515167899094542, 0.07982752898890055, 0.07982752898890055, 0.07982752898890055, 0.07982752898890055, 0.07982752898890055, 0.07982752898890055, 0.07982752898890055, 0.07982752898890055, 0.07982752898890055, 0.07982752898890055, 0.07982752898890055, 0.07796964213305894, 0.07796964213305894, 0.07796964213305894, 0.07796964213305894, 0.07796964213305894, 0.07796964213305894, 0.07796964213305894, 0.07796964213305894, 0.07523700479799912, 0.07523700479799912, 0.06752069213813966, 0.06752069213813966, 0.06752069213813966, 0.06752069213813966, 0.06752069213813966, 0.06752069213813966, 0.06752069213813966, 0.06752069213813966, 0.06752069213813966, 0.06752069213813966, 0.06752069213813966, 0.06752069213813966]}], \"recall_score_weighted\": [{\"categories\": [\"0\", \"1\", \"2\", \"3\", \"4\", \"5\", \"6\", \"7\", \"8\", \"9\", \"10\", \"11\", \"12\", \"13\", \"14\", \"15\", \"16\", \"17\", \"18\", \"19\", \"20\", \"21\", \"22\", \"23\", \"24\", \"25\", \"26\", \"27\", \"28\", \"29\", \"30\", \"31\", \"32\", \"33\", \"34\", \"35\", \"36\", \"37\", \"38\", \"39\", \"40\", \"41\", \"42\", \"43\", \"45\", \"46\"], \"mode\": \"markers\", \"name\": \"recall_score_weighted\", \"stepped\": false, \"type\": \"scatter\", \"data\": [0.970081453634085, 0.968295739348371, 0.9419799498746867, 0.956077694235589, 0.948966165413534, 0.9331453634085213, 0.9525062656641603, 0.9419486215538848, 0.9578007518796993, 0.9085526315789473, 0.9453947368421053, 0.9401942355889725, 0.936685463659148, 0.9788533834586465, 0.9454887218045114, 0.8153508771929825, 0.9454573934837093, 0.9419172932330827, 0.9559837092731831, 0.9507518796992482, 0.9542293233082708, 0.943703007518797, 0.9559837092731829, 0.9788220551378446, 0.9806077694235589, 0.4992794486215539, 0.9542919799498746, 0.9700814536340852, 0.9647869674185463, 0.9578007518796993, 0.5853070175438596, 0.9648182957393484, 0.9823621553884712, 0.9541979949874685, 0.982393483709273, 0.4519110275689223, 0.9525062656641603, 0.96124686716792, 0.9225877192982456, 0.9525375939849624, 0.5340538847117794, 0.9700501253132833, 0.9577380952380953, 0.9718358395989976, 0.9806077694235589, 0.7682957393483709]}, {\"categories\": [\"0\", \"1\", \"2\", \"3\", \"4\", \"5\", \"6\", \"7\", \"8\", \"9\", \"10\", \"11\", \"12\", \"13\", \"14\", \"15\", \"16\", \"17\", \"18\", \"19\", \"20\", \"21\", \"22\", \"23\", \"24\", \"25\", \"26\", \"27\", \"28\", \"29\", \"30\", \"31\", \"32\", \"33\", \"34\", \"35\", \"36\", \"37\", \"38\", \"39\", \"40\", \"41\", \"42\", \"43\", \"45\", \"46\"], \"mode\": \"lines\", \"name\": \"recall_score_weighted_max\", \"stepped\": true, \"type\": \"scatter\", \"data\": [0.970081453634085, 0.970081453634085, 0.970081453634085, 0.970081453634085, 0.970081453634085, 0.970081453634085, 0.970081453634085, 0.970081453634085, 0.970081453634085, 0.970081453634085, 0.970081453634085, 0.970081453634085, 0.970081453634085, 0.9788533834586465, 0.9788533834586465, 0.9788533834586465, 0.9788533834586465, 0.9788533834586465, 0.9788533834586465, 0.9788533834586465, 0.9788533834586465, 0.9788533834586465, 0.9788533834586465, 0.9788533834586465, 0.9806077694235589, 0.9806077694235589, 0.9806077694235589, 0.9806077694235589, 0.9806077694235589, 0.9806077694235589, 0.9806077694235589, 0.9806077694235589, 0.9823621553884712, 0.9823621553884712, 0.982393483709273, 0.982393483709273, 0.982393483709273, 0.982393483709273, 0.982393483709273, 0.982393483709273, 0.982393483709273, 0.982393483709273, 0.982393483709273, 0.982393483709273, 0.982393483709273, 0.982393483709273]}], \"f1_score_weighted\": [{\"categories\": [\"0\", \"1\", \"2\", \"3\", \"4\", \"5\", \"6\", \"7\", \"8\", \"9\", \"10\", \"11\", \"12\", \"13\", \"14\", \"15\", \"16\", \"17\", \"18\", \"19\", \"20\", \"21\", \"22\", \"23\", \"24\", \"25\", \"26\", \"27\", \"28\", \"29\", \"30\", \"31\", \"32\", \"33\", \"34\", \"35\", \"36\", \"37\", \"38\", \"39\", \"40\", \"41\", \"42\", \"43\", \"45\", \"46\"], \"mode\": \"markers\", \"name\": \"f1_score_weighted\", \"stepped\": false, \"type\": \"scatter\", \"data\": [0.969863259818128, 0.9681205952764186, 0.9418209828831863, 0.9556306545674111, 0.9488347295037244, 0.9326187714539402, 0.9522073287977033, 0.9413570673843884, 0.9575692696299957, 0.9071999357567788, 0.9447121591012191, 0.9399116901288466, 0.9367198705839337, 0.9787540289775782, 0.9457204271932825, 0.7993063906237685, 0.9449626124202606, 0.9420750270700117, 0.9561136290667035, 0.9506567524902714, 0.9539090656908937, 0.9442526463622201, 0.9559920363573005, 0.9786787030696423, 0.9805028107870697, 0.35363191718214726, 0.9539847498672007, 0.9699974757137759, 0.9644898100207, 0.9576477130538439, 0.527432646820649, 0.964774313481595, 0.9822931839004964, 0.9541854909984305, 0.9823137225579451, 0.29242128876055185, 0.951866984198959, 0.9610093449280713, 0.9214527461309322, 0.9523749171199635, 0.3922980034291229, 0.9698540622602418, 0.9575537341053298, 0.9716139025527527, 0.9804873670731211, 0.6850323361625852]}, {\"categories\": [\"0\", \"1\", \"2\", \"3\", \"4\", \"5\", \"6\", \"7\", \"8\", \"9\", \"10\", \"11\", \"12\", \"13\", \"14\", \"15\", \"16\", \"17\", \"18\", \"19\", \"20\", \"21\", \"22\", \"23\", \"24\", \"25\", \"26\", \"27\", \"28\", \"29\", \"30\", \"31\", \"32\", \"33\", \"34\", \"35\", \"36\", \"37\", \"38\", \"39\", \"40\", \"41\", \"42\", \"43\", \"45\", \"46\"], \"mode\": \"lines\", \"name\": \"f1_score_weighted_max\", \"stepped\": true, \"type\": \"scatter\", \"data\": [0.969863259818128, 0.969863259818128, 0.969863259818128, 0.969863259818128, 0.969863259818128, 0.969863259818128, 0.969863259818128, 0.969863259818128, 0.969863259818128, 0.969863259818128, 0.969863259818128, 0.969863259818128, 0.969863259818128, 0.9787540289775782, 0.9787540289775782, 0.9787540289775782, 0.9787540289775782, 0.9787540289775782, 0.9787540289775782, 0.9787540289775782, 0.9787540289775782, 0.9787540289775782, 0.9787540289775782, 0.9787540289775782, 0.9805028107870697, 0.9805028107870697, 0.9805028107870697, 0.9805028107870697, 0.9805028107870697, 0.9805028107870697, 0.9805028107870697, 0.9805028107870697, 0.9822931839004964, 0.9822931839004964, 0.9823137225579451, 0.9823137225579451, 0.9823137225579451, 0.9823137225579451, 0.9823137225579451, 0.9823137225579451, 0.9823137225579451, 0.9823137225579451, 0.9823137225579451, 0.9823137225579451, 0.9823137225579451, 0.9823137225579451]}], \"f1_score_micro\": [{\"categories\": [\"0\", \"1\", \"2\", \"3\", \"4\", \"5\", \"6\", \"7\", \"8\", \"9\", \"10\", \"11\", \"12\", \"13\", \"14\", \"15\", \"16\", \"17\", \"18\", \"19\", \"20\", \"21\", \"22\", \"23\", \"24\", \"25\", \"26\", \"27\", \"28\", \"29\", \"30\", \"31\", \"32\", \"33\", \"34\", \"35\", \"36\", \"37\", \"38\", \"39\", \"40\", \"41\", \"42\", \"43\", \"45\", \"46\"], \"mode\": \"markers\", \"name\": \"f1_score_micro\", \"stepped\": false, \"type\": \"scatter\", \"data\": [0.970081453634085, 0.968295739348371, 0.9419799498746867, 0.956077694235589, 0.948966165413534, 0.9331453634085213, 0.9525062656641603, 0.9419486215538848, 0.9578007518796993, 0.9085526315789473, 0.9453947368421053, 0.9401942355889725, 0.936685463659148, 0.9788533834586465, 0.9454887218045114, 0.8153508771929825, 0.9454573934837093, 0.9419172932330827, 0.9559837092731831, 0.9507518796992482, 0.9542293233082708, 0.943703007518797, 0.9559837092731829, 0.9788220551378446, 0.9806077694235589, 0.4992794486215539, 0.9542919799498746, 0.9700814536340852, 0.9647869674185463, 0.9578007518796993, 0.5853070175438596, 0.9648182957393484, 0.9823621553884712, 0.9541979949874685, 0.982393483709273, 0.4519110275689223, 0.9525062656641603, 0.96124686716792, 0.9225877192982456, 0.9525375939849624, 0.5340538847117794, 0.9700501253132833, 0.9577380952380953, 0.9718358395989976, 0.9806077694235589, 0.7682957393483709]}, {\"categories\": [\"0\", \"1\", \"2\", \"3\", \"4\", \"5\", \"6\", \"7\", \"8\", \"9\", \"10\", \"11\", \"12\", \"13\", \"14\", \"15\", \"16\", \"17\", \"18\", \"19\", \"20\", \"21\", \"22\", \"23\", \"24\", \"25\", \"26\", \"27\", \"28\", \"29\", \"30\", \"31\", \"32\", \"33\", \"34\", \"35\", \"36\", \"37\", \"38\", \"39\", \"40\", \"41\", \"42\", \"43\", \"45\", \"46\"], \"mode\": \"lines\", \"name\": \"f1_score_micro_max\", \"stepped\": true, \"type\": \"scatter\", \"data\": [0.970081453634085, 0.970081453634085, 0.970081453634085, 0.970081453634085, 0.970081453634085, 0.970081453634085, 0.970081453634085, 0.970081453634085, 0.970081453634085, 0.970081453634085, 0.970081453634085, 0.970081453634085, 0.970081453634085, 0.9788533834586465, 0.9788533834586465, 0.9788533834586465, 0.9788533834586465, 0.9788533834586465, 0.9788533834586465, 0.9788533834586465, 0.9788533834586465, 0.9788533834586465, 0.9788533834586465, 0.9788533834586465, 0.9806077694235589, 0.9806077694235589, 0.9806077694235589, 0.9806077694235589, 0.9806077694235589, 0.9806077694235589, 0.9806077694235589, 0.9806077694235589, 0.9823621553884712, 0.9823621553884712, 0.982393483709273, 0.982393483709273, 0.982393483709273, 0.982393483709273, 0.982393483709273, 0.982393483709273, 0.982393483709273, 0.982393483709273, 0.982393483709273, 0.982393483709273, 0.982393483709273, 0.982393483709273]}], \"matthews_correlation\": [{\"categories\": [\"0\", \"1\", \"2\", \"3\", \"4\", \"5\", \"6\", \"7\", \"8\", \"9\", \"10\", \"11\", \"12\", \"13\", \"14\", \"15\", \"16\", \"17\", \"18\", \"19\", \"20\", \"21\", \"22\", \"23\", \"24\", \"25\", \"26\", \"27\", \"28\", \"29\", \"30\", \"31\", \"32\", \"33\", \"34\", \"35\", \"36\", \"37\", \"38\", \"39\", \"40\", \"41\", \"42\", \"43\", \"45\", \"46\"], \"mode\": \"markers\", \"name\": \"matthews_correlation\", \"stepped\": false, \"type\": \"scatter\", \"data\": [0.9361852142638225, 0.9323790533424183, 0.877407504429699, 0.9055635663751579, 0.8912249210391512, 0.8593923588158028, 0.8991592726177986, 0.8763563603321936, 0.908281188816199, 0.8070939924100994, 0.8841883823678938, 0.8723413425819416, 0.8659399925683722, 0.9538755393004695, 0.8839839362547274, 0.609230731332195, 0.8812069353484328, 0.8764028594968014, 0.9055974443631192, 0.8974855832859101, 0.9026488444399636, 0.8795820168925801, 0.9039612950178212, 0.9558306083455939, 0.9580207179705205, -0.011218323992931278, 0.901460992113989, 0.935456257182101, 0.9249288637507558, 0.9101733434521009, 0.06537068911418868, 0.9236525487632408, 0.962896507756221, 0.9025451526120463, 0.9619570137581424, 0.0, 0.8992600238559685, 0.9182945117186806, 0.8298528402440342, 0.8983836752872405, -0.04631096066146692, 0.9354053135228252, 0.9111718483156885, 0.9404536209449047, 0.9591952398520529, 0.3669449905954145]}, {\"categories\": [\"0\", \"1\", \"2\", \"3\", \"4\", \"5\", \"6\", \"7\", \"8\", \"9\", \"10\", \"11\", \"12\", \"13\", \"14\", \"15\", \"16\", \"17\", \"18\", \"19\", \"20\", \"21\", \"22\", \"23\", \"24\", \"25\", \"26\", \"27\", \"28\", \"29\", \"30\", \"31\", \"32\", \"33\", \"34\", \"35\", \"36\", \"37\", \"38\", \"39\", \"40\", \"41\", \"42\", \"43\", \"45\", \"46\"], \"mode\": \"lines\", \"name\": \"matthews_correlation_max\", \"stepped\": true, \"type\": \"scatter\", \"data\": [0.9361852142638225, 0.9361852142638225, 0.9361852142638225, 0.9361852142638225, 0.9361852142638225, 0.9361852142638225, 0.9361852142638225, 0.9361852142638225, 0.9361852142638225, 0.9361852142638225, 0.9361852142638225, 0.9361852142638225, 0.9361852142638225, 0.9538755393004695, 0.9538755393004695, 0.9538755393004695, 0.9538755393004695, 0.9538755393004695, 0.9538755393004695, 0.9538755393004695, 0.9538755393004695, 0.9538755393004695, 0.9538755393004695, 0.9558306083455939, 0.9580207179705205, 0.9580207179705205, 0.9580207179705205, 0.9580207179705205, 0.9580207179705205, 0.9580207179705205, 0.9580207179705205, 0.9580207179705205, 0.962896507756221, 0.962896507756221, 0.962896507756221, 0.962896507756221, 0.962896507756221, 0.962896507756221, 0.962896507756221, 0.962896507756221, 0.962896507756221, 0.962896507756221, 0.962896507756221, 0.962896507756221, 0.962896507756221, 0.962896507756221]}], \"weighted_accuracy\": [{\"categories\": [\"0\", \"1\", \"2\", \"3\", \"4\", \"5\", \"6\", \"7\", \"8\", \"9\", \"10\", \"11\", \"12\", \"13\", \"14\", \"15\", \"16\", \"17\", \"18\", \"19\", \"20\", \"21\", \"22\", \"23\", \"24\", \"25\", \"26\", \"27\", \"28\", \"29\", \"30\", \"31\", \"32\", \"33\", \"34\", \"35\", \"36\", \"37\", \"38\", \"39\", \"40\", \"41\", \"42\", \"43\", \"45\", \"46\"], \"mode\": \"markers\", \"name\": \"weighted_accuracy\", \"stepped\": false, \"type\": \"scatter\", \"data\": [0.9759291493509265, 0.9723495534492042, 0.9458666328816395, 0.9649875409240256, 0.9514594470316273, 0.9391038345188176, 0.959270327529755, 0.9487520629807535, 0.9644341831552807, 0.9206369831178425, 0.9528535768045264, 0.9432943876500983, 0.9374376833238, 0.9825638099498801, 0.9456967770264504, 0.8616450259021209, 0.9521037127098998, 0.9439383005326889, 0.9563050489779755, 0.9530048413868958, 0.9583965422323919, 0.9424878710497946, 0.9583320811554138, 0.9818654344209101, 0.983690504888437, 0.5034864881043748, 0.9592771525278696, 0.9735939725417235, 0.9699239992604175, 0.9615884303403088, 0.6403606028984338, 0.9677728447471001, 0.9843751014654541, 0.9558501407389024, 0.9852103751510743, 0.41933820175776865, 0.9600286044683438, 0.9663409008392915, 0.9338415067905765, 0.956596984659518, 0.561734469716349, 0.9742438235529998, 0.9618199001396702, 0.976904759107024, 0.9832445192155955, 0.8368917520664674]}, {\"categories\": [\"0\", \"1\", \"2\", \"3\", \"4\", \"5\", \"6\", \"7\", \"8\", \"9\", \"10\", \"11\", \"12\", \"13\", \"14\", \"15\", \"16\", \"17\", \"18\", \"19\", \"20\", \"21\", \"22\", \"23\", \"24\", \"25\", \"26\", \"27\", \"28\", \"29\", \"30\", \"31\", \"32\", \"33\", \"34\", \"35\", \"36\", \"37\", \"38\", \"39\", \"40\", \"41\", \"42\", \"43\", \"45\", \"46\"], \"mode\": \"lines\", \"name\": \"weighted_accuracy_max\", \"stepped\": true, \"type\": \"scatter\", \"data\": [0.9759291493509265, 0.9759291493509265, 0.9759291493509265, 0.9759291493509265, 0.9759291493509265, 0.9759291493509265, 0.9759291493509265, 0.9759291493509265, 0.9759291493509265, 0.9759291493509265, 0.9759291493509265, 0.9759291493509265, 0.9759291493509265, 0.9825638099498801, 0.9825638099498801, 0.9825638099498801, 0.9825638099498801, 0.9825638099498801, 0.9825638099498801, 0.9825638099498801, 0.9825638099498801, 0.9825638099498801, 0.9825638099498801, 0.9825638099498801, 0.983690504888437, 0.983690504888437, 0.983690504888437, 0.983690504888437, 0.983690504888437, 0.983690504888437, 0.983690504888437, 0.983690504888437, 0.9843751014654541, 0.9843751014654541, 0.9852103751510743, 0.9852103751510743, 0.9852103751510743, 0.9852103751510743, 0.9852103751510743, 0.9852103751510743, 0.9852103751510743, 0.9852103751510743, 0.9852103751510743, 0.9852103751510743, 0.9852103751510743, 0.9852103751510743]}], \"average_precision_score_micro\": [{\"categories\": [\"0\", \"1\", \"2\", \"3\", \"4\", \"5\", \"6\", \"7\", \"8\", \"9\", \"10\", \"11\", \"12\", \"13\", \"14\", \"15\", \"16\", \"17\", \"18\", \"19\", \"20\", \"21\", \"22\", \"23\", \"24\", \"25\", \"26\", \"27\", \"28\", \"29\", \"30\", \"31\", \"32\", \"33\", \"34\", \"35\", \"36\", \"37\", \"38\", \"39\", \"40\", \"41\", \"42\", \"43\", \"45\", \"46\"], \"mode\": \"markers\", \"name\": \"average_precision_score_micro\", \"stepped\": false, \"type\": \"scatter\", \"data\": [0.9943079820113448, 0.9947792515770647, 0.9877552329132241, 0.9901891394992971, 0.9912874689293071, 0.9832960453067969, 0.9883658360617377, 0.9875256107276394, 0.9901642999695802, 0.9580839657963317, 0.9901630380074007, 0.986684141466722, 0.9866803427181781, 0.9958783250648218, 0.9843661676351585, 0.8955657572644113, 0.9866914300914067, 0.9871588993225295, 0.9875026038891936, 0.9882269148505406, 0.9897329516145099, 0.9881347166293384, 0.9901052723458929, 0.9955277069474884, 0.9956759248679395, 0.5302629849326357, 0.9915970345038847, 0.9924496624152717, 0.9937293881302379, 0.9922382194003895, 0.5626909241305017, 0.9927672321942074, 0.995913196286774, 0.9840577565783055, 0.9969277907016607, 0.49516606561830656, 0.9916086450911884, 0.9933663169993446, 0.9844210586492901, 0.9889218087671023, 0.5327389135936652, 0.995515834779709, 0.9928132315587946, 0.9946610293771586, 0.9967622309142914, 0.9271861531636898]}, {\"categories\": [\"0\", \"1\", \"2\", \"3\", \"4\", \"5\", \"6\", \"7\", \"8\", \"9\", \"10\", \"11\", \"12\", \"13\", \"14\", \"15\", \"16\", \"17\", \"18\", \"19\", \"20\", \"21\", \"22\", \"23\", \"24\", \"25\", \"26\", \"27\", \"28\", \"29\", \"30\", \"31\", \"32\", \"33\", \"34\", \"35\", \"36\", \"37\", \"38\", \"39\", \"40\", \"41\", \"42\", \"43\", \"45\", \"46\"], \"mode\": \"lines\", \"name\": \"average_precision_score_micro_max\", \"stepped\": true, \"type\": \"scatter\", \"data\": [0.9943079820113448, 0.9947792515770647, 0.9947792515770647, 0.9947792515770647, 0.9947792515770647, 0.9947792515770647, 0.9947792515770647, 0.9947792515770647, 0.9947792515770647, 0.9947792515770647, 0.9947792515770647, 0.9947792515770647, 0.9947792515770647, 0.9958783250648218, 0.9958783250648218, 0.9958783250648218, 0.9958783250648218, 0.9958783250648218, 0.9958783250648218, 0.9958783250648218, 0.9958783250648218, 0.9958783250648218, 0.9958783250648218, 0.9958783250648218, 0.9958783250648218, 0.9958783250648218, 0.9958783250648218, 0.9958783250648218, 0.9958783250648218, 0.9958783250648218, 0.9958783250648218, 0.9958783250648218, 0.995913196286774, 0.995913196286774, 0.9969277907016607, 0.9969277907016607, 0.9969277907016607, 0.9969277907016607, 0.9969277907016607, 0.9969277907016607, 0.9969277907016607, 0.9969277907016607, 0.9969277907016607, 0.9969277907016607, 0.9969277907016607, 0.9969277907016607]}], \"AUC_micro\": [{\"categories\": [\"0\", \"1\", \"2\", \"3\", \"4\", \"5\", \"6\", \"7\", \"8\", \"9\", \"10\", \"11\", \"12\", \"13\", \"14\", \"15\", \"16\", \"17\", \"18\", \"19\", \"20\", \"21\", \"22\", \"23\", \"24\", \"25\", \"26\", \"27\", \"28\", \"29\", \"30\", \"31\", \"32\", \"33\", \"34\", \"35\", \"36\", \"37\", \"38\", \"39\", \"40\", \"41\", \"42\", \"43\", \"45\", \"46\"], \"mode\": \"markers\", \"name\": \"AUC_micro\", \"stepped\": false, \"type\": \"scatter\", \"data\": [0.994137354272272, 0.9945868351957587, 0.9872479208673312, 0.9898532947343295, 0.9909424740579519, 0.984633674568627, 0.9892252463081261, 0.9877048903587289, 0.9899289950282976, 0.9650520509450319, 0.9897751015226035, 0.986323175969372, 0.9860575330085867, 0.995768625432629, 0.9858581682904003, 0.8970097942223981, 0.9870549356630927, 0.986559698902645, 0.9873144739197619, 0.9892421569274064, 0.9892915147360883, 0.987649153036099, 0.9898255683852488, 0.995378208993662, 0.9955354296612459, 0.5063943242347724, 0.9912876940942581, 0.9925324255972011, 0.9936679103774473, 0.9921805512371155, 0.5853070175438596, 0.9928138701233031, 0.9957486624612912, 0.9855681359570607, 0.9968206465411651, 0.4519110275689223, 0.9913284542810661, 0.9930861674078681, 0.9839684679273372, 0.9892219191462365, 0.5172744969409739, 0.9954311687740652, 0.9925432413270017, 0.9945286049553708, 0.9966589896577283, 0.9147463348220176]}, {\"categories\": [\"0\", \"1\", \"2\", \"3\", \"4\", \"5\", \"6\", \"7\", \"8\", \"9\", \"10\", \"11\", \"12\", \"13\", \"14\", \"15\", \"16\", \"17\", \"18\", \"19\", \"20\", \"21\", \"22\", \"23\", \"24\", \"25\", \"26\", \"27\", \"28\", \"29\", \"30\", \"31\", \"32\", \"33\", \"34\", \"35\", \"36\", \"37\", \"38\", \"39\", \"40\", \"41\", \"42\", \"43\", \"45\", \"46\"], \"mode\": \"lines\", \"name\": \"AUC_micro_max\", \"stepped\": true, \"type\": \"scatter\", \"data\": [0.994137354272272, 0.9945868351957587, 0.9945868351957587, 0.9945868351957587, 0.9945868351957587, 0.9945868351957587, 0.9945868351957587, 0.9945868351957587, 0.9945868351957587, 0.9945868351957587, 0.9945868351957587, 0.9945868351957587, 0.9945868351957587, 0.995768625432629, 0.995768625432629, 0.995768625432629, 0.995768625432629, 0.995768625432629, 0.995768625432629, 0.995768625432629, 0.995768625432629, 0.995768625432629, 0.995768625432629, 0.995768625432629, 0.995768625432629, 0.995768625432629, 0.995768625432629, 0.995768625432629, 0.995768625432629, 0.995768625432629, 0.995768625432629, 0.995768625432629, 0.995768625432629, 0.995768625432629, 0.9968206465411651, 0.9968206465411651, 0.9968206465411651, 0.9968206465411651, 0.9968206465411651, 0.9968206465411651, 0.9968206465411651, 0.9968206465411651, 0.9968206465411651, 0.9968206465411651, 0.9968206465411651, 0.9968206465411651]}], \"average_precision_score_macro\": [{\"categories\": [\"0\", \"1\", \"2\", \"3\", \"4\", \"5\", \"6\", \"7\", \"8\", \"9\", \"10\", \"11\", \"12\", \"13\", \"14\", \"15\", \"16\", \"17\", \"18\", \"19\", \"20\", \"21\", \"22\", \"23\", \"24\", \"25\", \"26\", \"27\", \"28\", \"29\", \"30\", \"31\", \"32\", \"33\", \"34\", \"35\", \"36\", \"37\", \"38\", \"39\", \"40\", \"41\", \"42\", \"43\", \"45\", \"46\"], \"mode\": \"markers\", \"name\": \"average_precision_score_macro\", \"stepped\": false, \"type\": \"scatter\", \"data\": [0.9940377103764121, 0.9947309617068225, 0.9869153325973871, 0.9907229647809859, 0.9914586434130725, 0.9834484396128065, 0.9878084078260974, 0.9873803386973498, 0.989071715104051, 0.9572141497389162, 0.9909959564097616, 0.9868839963927547, 0.9875034976722802, 0.9958828444727846, 0.9837677954372438, 0.9048113508197144, 0.9870901429927097, 0.9861240159439364, 0.9863462089012186, 0.9893534483131861, 0.9889196353539706, 0.9869796368595105, 0.9898971433942098, 0.9949463679744077, 0.9955241150570442, 0.5500173013736877, 0.9912138031421189, 0.9917772771809631, 0.9929729934368463, 0.9919174197940629, 0.5157781518022492, 0.9917760320025695, 0.9953960095364136, 0.9826217806335318, 0.9967841262773594, 0.5, 0.9912347994372983, 0.9930410198154311, 0.9825422779973568, 0.989613884408491, 0.49704819940631406, 0.9948141708583197, 0.9925739227010337, 0.9943336902262556, 0.9975200436888081, 0.9957735372632033]}, {\"categories\": [\"0\", \"1\", \"2\", \"3\", \"4\", \"5\", \"6\", \"7\", \"8\", \"9\", \"10\", \"11\", \"12\", \"13\", \"14\", \"15\", \"16\", \"17\", \"18\", \"19\", \"20\", \"21\", \"22\", \"23\", \"24\", \"25\", \"26\", \"27\", \"28\", \"29\", \"30\", \"31\", \"32\", \"33\", \"34\", \"35\", \"36\", \"37\", \"38\", \"39\", \"40\", \"41\", \"42\", \"43\", \"45\", \"46\"], \"mode\": \"lines\", \"name\": \"average_precision_score_macro_max\", \"stepped\": true, \"type\": \"scatter\", \"data\": [0.9940377103764121, 0.9947309617068225, 0.9947309617068225, 0.9947309617068225, 0.9947309617068225, 0.9947309617068225, 0.9947309617068225, 0.9947309617068225, 0.9947309617068225, 0.9947309617068225, 0.9947309617068225, 0.9947309617068225, 0.9947309617068225, 0.9958828444727846, 0.9958828444727846, 0.9958828444727846, 0.9958828444727846, 0.9958828444727846, 0.9958828444727846, 0.9958828444727846, 0.9958828444727846, 0.9958828444727846, 0.9958828444727846, 0.9958828444727846, 0.9958828444727846, 0.9958828444727846, 0.9958828444727846, 0.9958828444727846, 0.9958828444727846, 0.9958828444727846, 0.9958828444727846, 0.9958828444727846, 0.9958828444727846, 0.9958828444727846, 0.9967841262773594, 0.9967841262773594, 0.9967841262773594, 0.9967841262773594, 0.9967841262773594, 0.9967841262773594, 0.9967841262773594, 0.9967841262773594, 0.9967841262773594, 0.9967841262773594, 0.9975200436888081, 0.9975200436888081]}], \"accuracy\": [{\"categories\": [\"0\", \"1\", \"2\", \"3\", \"4\", \"5\", \"6\", \"7\", \"8\", \"9\", \"10\", \"11\", \"12\", \"13\", \"14\", \"15\", \"16\", \"17\", \"18\", \"19\", \"20\", \"21\", \"22\", \"23\", \"24\", \"25\", \"26\", \"27\", \"28\", \"29\", \"30\", \"31\", \"32\", \"33\", \"34\", \"35\", \"36\", \"37\", \"38\", \"39\", \"40\", \"41\", \"42\", \"43\", \"45\", \"46\"], \"mode\": \"markers\", \"name\": \"accuracy\", \"stepped\": false, \"type\": \"scatter\", \"data\": [0.970081453634085, 0.968295739348371, 0.9419799498746867, 0.956077694235589, 0.948966165413534, 0.9331453634085213, 0.9525062656641603, 0.9419486215538848, 0.9578007518796993, 0.9085526315789473, 0.9453947368421053, 0.9401942355889725, 0.936685463659148, 0.9788533834586465, 0.9454887218045114, 0.8153508771929825, 0.9454573934837093, 0.9419172932330827, 0.9559837092731831, 0.9507518796992482, 0.9542293233082708, 0.943703007518797, 0.9559837092731829, 0.9788220551378446, 0.9806077694235589, 0.4992794486215539, 0.9542919799498746, 0.9700814536340852, 0.9647869674185463, 0.9578007518796993, 0.5853070175438596, 0.9648182957393484, 0.9823621553884712, 0.9541979949874685, 0.982393483709273, 0.4519110275689223, 0.9525062656641603, 0.96124686716792, 0.9225877192982456, 0.9525375939849624, 0.5340538847117794, 0.9700501253132833, 0.9577380952380953, 0.9718358395989976, 0.9806077694235589, 0.7682957393483709]}, {\"categories\": [\"0\", \"1\", \"2\", \"3\", \"4\", \"5\", \"6\", \"7\", \"8\", \"9\", \"10\", \"11\", \"12\", \"13\", \"14\", \"15\", \"16\", \"17\", \"18\", \"19\", \"20\", \"21\", \"22\", \"23\", \"24\", \"25\", \"26\", \"27\", \"28\", \"29\", \"30\", \"31\", \"32\", \"33\", \"34\", \"35\", \"36\", \"37\", \"38\", \"39\", \"40\", \"41\", \"42\", \"43\", \"45\", \"46\"], \"mode\": \"lines\", \"name\": \"accuracy_max\", \"stepped\": true, \"type\": \"scatter\", \"data\": [0.970081453634085, 0.970081453634085, 0.970081453634085, 0.970081453634085, 0.970081453634085, 0.970081453634085, 0.970081453634085, 0.970081453634085, 0.970081453634085, 0.970081453634085, 0.970081453634085, 0.970081453634085, 0.970081453634085, 0.9788533834586465, 0.9788533834586465, 0.9788533834586465, 0.9788533834586465, 0.9788533834586465, 0.9788533834586465, 0.9788533834586465, 0.9788533834586465, 0.9788533834586465, 0.9788533834586465, 0.9788533834586465, 0.9806077694235589, 0.9806077694235589, 0.9806077694235589, 0.9806077694235589, 0.9806077694235589, 0.9806077694235589, 0.9806077694235589, 0.9806077694235589, 0.9823621553884712, 0.9823621553884712, 0.982393483709273, 0.982393483709273, 0.982393483709273, 0.982393483709273, 0.982393483709273, 0.982393483709273, 0.982393483709273, 0.982393483709273, 0.982393483709273, 0.982393483709273, 0.982393483709273, 0.982393483709273]}], \"f1_score_macro\": [{\"categories\": [\"0\", \"1\", \"2\", \"3\", \"4\", \"5\", \"6\", \"7\", \"8\", \"9\", \"10\", \"11\", \"12\", \"13\", \"14\", \"15\", \"16\", \"17\", \"18\", \"19\", \"20\", \"21\", \"22\", \"23\", \"24\", \"25\", \"26\", \"27\", \"28\", \"29\", \"30\", \"31\", \"32\", \"33\", \"34\", \"35\", \"36\", \"37\", \"38\", \"39\", \"40\", \"41\", \"42\", \"43\", \"45\", \"46\"], \"mode\": \"markers\", \"name\": \"f1_score_macro\", \"stepped\": false, \"type\": \"scatter\", \"data\": [0.9672623696424614, 0.9656036395734564, 0.9376088123801134, 0.9512698799503785, 0.9446274324530736, 0.9275936954843977, 0.9488352295622086, 0.9367236996965136, 0.9534674328740025, 0.8983116037146497, 0.9399116011366331, 0.9344566332306643, 0.931131498046863, 0.9764548535381887, 0.9407959578672326, 0.7731051328928034, 0.9393554793443066, 0.9373624494353343, 0.9522922488391095, 0.9472149024480171, 0.9498619152705622, 0.9385671821978707, 0.9515162738887817, 0.9774545192912555, 0.9784392434996235, 0.33579916687381867, 0.9493235324020738, 0.9670609098163979, 0.9612248954780156, 0.9539788590219704, 0.47619063617778046, 0.9614248103824622, 0.980890890660332, 0.9508050624660601, 0.9804544326104944, 0.30570038318864634, 0.947667725449722, 0.9579949140544162, 0.9122512833334622, 0.9479493684765925, 0.34777940799951496, 0.9669659337190175, 0.9544705693072093, 0.9692916955848307, 0.9788624390712396, 0.6166959861020449]}, {\"categories\": [\"0\", \"1\", \"2\", \"3\", \"4\", \"5\", \"6\", \"7\", \"8\", \"9\", \"10\", \"11\", \"12\", \"13\", \"14\", \"15\", \"16\", \"17\", \"18\", \"19\", \"20\", \"21\", \"22\", \"23\", \"24\", \"25\", \"26\", \"27\", \"28\", \"29\", \"30\", \"31\", \"32\", \"33\", \"34\", \"35\", \"36\", \"37\", \"38\", \"39\", \"40\", \"41\", \"42\", \"43\", \"45\", \"46\"], \"mode\": \"lines\", \"name\": \"f1_score_macro_max\", \"stepped\": true, \"type\": \"scatter\", \"data\": [0.9672623696424614, 0.9672623696424614, 0.9672623696424614, 0.9672623696424614, 0.9672623696424614, 0.9672623696424614, 0.9672623696424614, 0.9672623696424614, 0.9672623696424614, 0.9672623696424614, 0.9672623696424614, 0.9672623696424614, 0.9672623696424614, 0.9764548535381887, 0.9764548535381887, 0.9764548535381887, 0.9764548535381887, 0.9764548535381887, 0.9764548535381887, 0.9764548535381887, 0.9764548535381887, 0.9764548535381887, 0.9764548535381887, 0.9774545192912555, 0.9784392434996235, 0.9784392434996235, 0.9784392434996235, 0.9784392434996235, 0.9784392434996235, 0.9784392434996235, 0.9784392434996235, 0.9784392434996235, 0.980890890660332, 0.980890890660332, 0.980890890660332, 0.980890890660332, 0.980890890660332, 0.980890890660332, 0.980890890660332, 0.980890890660332, 0.980890890660332, 0.980890890660332, 0.980890890660332, 0.980890890660332, 0.980890890660332, 0.980890890660332]}], \"norm_macro_recall\": [{\"categories\": [\"0\", \"1\", \"2\", \"3\", \"4\", \"5\", \"6\", \"7\", \"8\", \"9\", \"10\", \"11\", \"12\", \"13\", \"14\", \"15\", \"16\", \"17\", \"18\", \"19\", \"20\", \"21\", \"22\", \"23\", \"24\", \"25\", \"26\", \"27\", \"28\", \"29\", \"30\", \"31\", \"32\", \"33\", \"34\", \"35\", \"36\", \"37\", \"38\", \"39\", \"40\", \"41\", \"42\", \"43\", \"45\", \"46\"], \"mode\": \"markers\", \"name\": \"norm_macro_recall\", \"stepped\": false, \"type\": \"scatter\", \"data\": [0.9254593517451575, 0.9258945218606343, 0.8746511517341975, 0.8904268806940697, 0.8917346248841669, 0.8520909442174684, 0.888452688723149, 0.8673562593658503, 0.8995266307938199, 0.7846514231411931, 0.8745872070378257, 0.872874516634598, 0.8716909295062436, 0.9484091727687533, 0.8907874090071347, 0.5179529552872799, 0.8747949166726452, 0.8788820084323712, 0.9109492401137335, 0.8953175086877131, 0.8983702093177053, 0.8908982137175352, 0.9063707481311493, 0.9508910351877103, 0.9536169022373523, 0.011764705882352922, 0.8970161074232477, 0.9317115231961036, 0.9172909710287485, 0.9064896389077232, 0.06586846344831235, 0.9222230859097124, 0.9607597593802094, 0.9050246291741711, 0.9583443004430112, 0.0, 0.8865254148035477, 0.9094961669840187, 0.8139490762114698, 0.8955474546272294, 0.002941176470588225, 0.9300224966429467, 0.905198617417927, 0.931014907300713, 0.9557597593802093, 0.3608827404479578]}, {\"categories\": [\"0\", \"1\", \"2\", \"3\", \"4\", \"5\", \"6\", \"7\", \"8\", \"9\", \"10\", \"11\", \"12\", \"13\", \"14\", \"15\", \"16\", \"17\", \"18\", \"19\", \"20\", \"21\", \"22\", \"23\", \"24\", \"25\", \"26\", \"27\", \"28\", \"29\", \"30\", \"31\", \"32\", \"33\", \"34\", \"35\", \"36\", \"37\", \"38\", \"39\", \"40\", \"41\", \"42\", \"43\", \"45\", \"46\"], \"mode\": \"lines\", \"name\": \"norm_macro_recall_max\", \"stepped\": true, \"type\": \"scatter\", \"data\": [0.9254593517451575, 0.9258945218606343, 0.9258945218606343, 0.9258945218606343, 0.9258945218606343, 0.9258945218606343, 0.9258945218606343, 0.9258945218606343, 0.9258945218606343, 0.9258945218606343, 0.9258945218606343, 0.9258945218606343, 0.9258945218606343, 0.9484091727687533, 0.9484091727687533, 0.9484091727687533, 0.9484091727687533, 0.9484091727687533, 0.9484091727687533, 0.9484091727687533, 0.9484091727687533, 0.9484091727687533, 0.9484091727687533, 0.9508910351877103, 0.9536169022373523, 0.9536169022373523, 0.9536169022373523, 0.9536169022373523, 0.9536169022373523, 0.9536169022373523, 0.9536169022373523, 0.9536169022373523, 0.9607597593802094, 0.9607597593802094, 0.9607597593802094, 0.9607597593802094, 0.9607597593802094, 0.9607597593802094, 0.9607597593802094, 0.9607597593802094, 0.9607597593802094, 0.9607597593802094, 0.9607597593802094, 0.9607597593802094, 0.9607597593802094, 0.9607597593802094]}]}, \"metricName\": null, \"primaryMetricName\": \"AUC_weighted\", \"showLegend\": false}, \"run_metrics\": [{\"name\": \"experiment_status\", \"run_id\": \"AutoML_7d9aec74-330e-4112-b25c-42a09ee2a3d2\", \"categories\": [0, 1, 2, 3, 4, 5, 6, 7, 8, 9, 10, 11, 12, 13], \"series\": [{\"data\": [\"DatasetEvaluation\", \"FeaturesGeneration\", \"DatasetFeaturization\", \"DatasetFeaturizationCompleted\", \"DatasetCrossValidationSplit\", \"ModelSelection\", \"BestRunExplainModel\", \"ModelExplanationDataSetSetup\", \"PickSurrogateModel\", \"EngineeredFeatureExplanations\", \"EngineeredFeatureExplanations\", \"RawFeaturesExplanations\", \"RawFeaturesExplanations\", \"BestRunExplainModel\"]}]}, {\"name\": \"experiment_status_description\", \"run_id\": \"AutoML_7d9aec74-330e-4112-b25c-42a09ee2a3d2\", \"categories\": [0, 1, 2, 3, 4, 5, 6, 7, 8, 9, 10, 11, 12, 13], \"series\": [{\"data\": [\"Gathering dataset statistics.\", \"Generating features for the dataset.\", \"Beginning to fit featurizers and featurize the dataset.\", \"Completed fit featurizers and featurizing the dataset.\", \"Generating individually featurized CV splits.\", \"Beginning model selection.\", \"Best run model explanations started\", \"Model explanations data setup completed\", \"Choosing LightGBM as the surrogate model for explanations\", \"Computation of engineered features started\", \"Computation of engineered features completed\", \"Computation of raw features started\", \"Computation of raw features completed\", \"Best run model explanations completed\"]}]}, {\"name\": \"balanced_accuracy\", \"run_id\": \"AutoML_7d9aec74-330e-4112-b25c-42a09ee2a3d2\", \"categories\": [0], \"series\": [{\"data\": [0.9778798796901047]}]}, {\"name\": \"accuracy\", \"run_id\": \"AutoML_7d9aec74-330e-4112-b25c-42a09ee2a3d2\", \"categories\": [0], \"series\": [{\"data\": [0.9806077694235589]}]}, {\"name\": \"norm_macro_recall\", \"run_id\": \"AutoML_7d9aec74-330e-4112-b25c-42a09ee2a3d2\", \"categories\": [0], \"series\": [{\"data\": [0.9557597593802093]}]}, {\"name\": \"matthews_correlation\", \"run_id\": \"AutoML_7d9aec74-330e-4112-b25c-42a09ee2a3d2\", \"categories\": [0], \"series\": [{\"data\": [0.9591952398520529]}]}, {\"name\": \"average_precision_score_weighted\", \"run_id\": \"AutoML_7d9aec74-330e-4112-b25c-42a09ee2a3d2\", \"categories\": [0], \"series\": [{\"data\": [0.9975956018750647]}]}, {\"name\": \"precision_score_macro\", \"run_id\": \"AutoML_7d9aec74-330e-4112-b25c-42a09ee2a3d2\", \"categories\": [0], \"series\": [{\"data\": [0.981425518925519]}]}, {\"name\": \"AUC_weighted\", \"run_id\": \"AutoML_7d9aec74-330e-4112-b25c-42a09ee2a3d2\", \"categories\": [0], \"series\": [{\"data\": [0.9972874525304194]}]}, {\"name\": \"average_precision_score_macro\", \"run_id\": \"AutoML_7d9aec74-330e-4112-b25c-42a09ee2a3d2\", \"categories\": [0], \"series\": [{\"data\": [0.9975200436888081]}]}, {\"name\": \"recall_score_macro\", \"run_id\": \"AutoML_7d9aec74-330e-4112-b25c-42a09ee2a3d2\", \"categories\": [0], \"series\": [{\"data\": [0.9778798796901047]}]}, {\"name\": \"weighted_accuracy\", \"run_id\": \"AutoML_7d9aec74-330e-4112-b25c-42a09ee2a3d2\", \"categories\": [0], \"series\": [{\"data\": [0.9832445192155955]}]}, {\"name\": \"precision_score_micro\", \"run_id\": \"AutoML_7d9aec74-330e-4112-b25c-42a09ee2a3d2\", \"categories\": [0], \"series\": [{\"data\": [0.9806077694235589]}]}, {\"name\": \"f1_score_weighted\", \"run_id\": \"AutoML_7d9aec74-330e-4112-b25c-42a09ee2a3d2\", \"categories\": [0], \"series\": [{\"data\": [0.9804873670731211]}]}, {\"name\": \"recall_score_weighted\", \"run_id\": \"AutoML_7d9aec74-330e-4112-b25c-42a09ee2a3d2\", \"categories\": [0], \"series\": [{\"data\": [0.9806077694235589]}]}, {\"name\": \"AUC_macro\", \"run_id\": \"AutoML_7d9aec74-330e-4112-b25c-42a09ee2a3d2\", \"categories\": [0], \"series\": [{\"data\": [0.9972874525304194]}]}, {\"name\": \"f1_score_micro\", \"run_id\": \"AutoML_7d9aec74-330e-4112-b25c-42a09ee2a3d2\", \"categories\": [0], \"series\": [{\"data\": [0.9806077694235589]}]}, {\"name\": \"average_precision_score_micro\", \"run_id\": \"AutoML_7d9aec74-330e-4112-b25c-42a09ee2a3d2\", \"categories\": [0], \"series\": [{\"data\": [0.9967622309142914]}]}, {\"name\": \"f1_score_macro\", \"run_id\": \"AutoML_7d9aec74-330e-4112-b25c-42a09ee2a3d2\", \"categories\": [0], \"series\": [{\"data\": [0.9788624390712396]}]}, {\"name\": \"log_loss\", \"run_id\": \"AutoML_7d9aec74-330e-4112-b25c-42a09ee2a3d2\", \"categories\": [0], \"series\": [{\"data\": [0.08972064190111316]}]}, {\"name\": \"recall_score_micro\", \"run_id\": \"AutoML_7d9aec74-330e-4112-b25c-42a09ee2a3d2\", \"categories\": [0], \"series\": [{\"data\": [0.9806077694235589]}]}, {\"name\": \"precision_score_weighted\", \"run_id\": \"AutoML_7d9aec74-330e-4112-b25c-42a09ee2a3d2\", \"categories\": [0], \"series\": [{\"data\": [0.9817471697405908]}]}, {\"name\": \"AUC_micro\", \"run_id\": \"AutoML_7d9aec74-330e-4112-b25c-42a09ee2a3d2\", \"categories\": [0], \"series\": [{\"data\": [0.9966589896577283]}]}], \"run_logs\": \"\\nRun is completed.\", \"graph\": {}, \"widget_settings\": {\"childWidgetDisplay\": \"popup\", \"send_telemetry\": false, \"log_level\": \"INFO\", \"sdk_version\": \"1.24.0\"}, \"loading\": false}"
          },
          "metadata": {}
        }
      ],
      "execution_count": 11,
      "metadata": {
        "gather": {
          "logged": 1616745289932
        },
        "jupyter": {
          "outputs_hidden": false,
          "source_hidden": false
        },
        "nteract": {
          "transient": {
            "deleting": false
          }
        }
      }
    },
    {
      "cell_type": "markdown",
      "source": [
        "## Best Model\n",
        "\n",
        "TODO: In the cell below, get the best model from the automl experiments and display all the properties of the model.\n",
        "\n"
      ],
      "metadata": {}
    },
    {
      "cell_type": "code",
      "source": [
        "!pip install xgboost==0.90"
      ],
      "outputs": [
        {
          "output_type": "stream",
          "name": "stdout",
          "text": [
            "Collecting xgboost==0.90\n",
            "  Downloading xgboost-0.90-py2.py3-none-manylinux1_x86_64.whl (142.8 MB)\n",
            "\u001b[K     |████████████████████████████████| 142.8 MB 26 kB/s /s eta 0:00:01\n",
            "\u001b[?25hRequirement already satisfied: scipy in /anaconda/envs/azureml_py36/lib/python3.6/site-packages (from xgboost==0.90) (1.4.1)\n",
            "Requirement already satisfied: numpy in /anaconda/envs/azureml_py36/lib/python3.6/site-packages (from xgboost==0.90) (1.18.5)\n",
            "Installing collected packages: xgboost\n",
            "  Attempting uninstall: xgboost\n",
            "    Found existing installation: xgboost 1.3.3\n",
            "    Uninstalling xgboost-1.3.3:\n",
            "      Successfully uninstalled xgboost-1.3.3\n",
            "Successfully installed xgboost-0.90\n"
          ]
        }
      ],
      "execution_count": 8,
      "metadata": {
        "collapsed": true,
        "jupyter": {
          "source_hidden": false,
          "outputs_hidden": false
        },
        "nteract": {
          "transient": {
            "deleting": false
          }
        }
      }
    },
    {
      "cell_type": "code",
      "source": [
        "best_run, best_model = remote_run.get_output()\n",
        "best_run"
      ],
      "outputs": [
        {
          "output_type": "execute_result",
          "execution_count": 13,
          "data": {
            "text/plain": "Run(Experiment: breast-cancer-run,\nId: AutoML_7d9aec74-330e-4112-b25c-42a09ee2a3d2_45,\nType: azureml.scriptrun,\nStatus: Completed)",
            "text/html": "<table style=\"width:100%\"><tr><th>Experiment</th><th>Id</th><th>Type</th><th>Status</th><th>Details Page</th><th>Docs Page</th></tr><tr><td>breast-cancer-run</td><td>AutoML_7d9aec74-330e-4112-b25c-42a09ee2a3d2_45</td><td>azureml.scriptrun</td><td>Completed</td><td><a href=\"https://ml.azure.com/experiments/breast-cancer-run/runs/AutoML_7d9aec74-330e-4112-b25c-42a09ee2a3d2_45?wsid=/subscriptions/976ee174-3882-4721-b90a-b5fef6b72f24/resourcegroups/aml-quickstarts-141384/workspaces/quick-starts-ws-141384\" target=\"_blank\" rel=\"noopener\">Link to Azure Machine Learning studio</a></td><td><a href=\"https://docs.microsoft.com/en-us/python/api/azureml-core/azureml.core.run.Run?view=azure-ml-py\" target=\"_blank\" rel=\"noopener\">Link to Documentation</a></td></tr></table>"
          },
          "metadata": {}
        }
      ],
      "execution_count": 13,
      "metadata": {
        "gather": {
          "logged": 1616746775034
        },
        "jupyter": {
          "outputs_hidden": false,
          "source_hidden": false
        },
        "nteract": {
          "transient": {
            "deleting": false
          }
        }
      }
    },
    {
      "cell_type": "code",
      "source": [
        "best_model"
      ],
      "outputs": [
        {
          "output_type": "execute_result",
          "execution_count": 14,
          "data": {
            "text/plain": "PipelineWithYTransformations(Pipeline={'memory': None,\n                                       'steps': [('datatransformer',\n                                                  DataTransformer(enable_dnn=None,\n                                                                  enable_feature_sweeping=None,\n                                                                  feature_sweeping_config=None,\n                                                                  feature_sweeping_timeout=None,\n                                                                  featurization_config=None,\n                                                                  force_text_dnn=None,\n                                                                  is_cross_validation=None,\n                                                                  is_onnx_compatible=None,\n                                                                  logger=None,\n                                                                  observer=None,\n                                                                  task=None,\n                                                                  working_dir=None))...\n                                                                                                                                   min_impurity_split=None,\n                                                                                                                                   min_samples_leaf=0.01,\n                                                                                                                                   min_samples_split=0.15052631578947367,\n                                                                                                                                   min_weight_fraction_leaf=0.0,\n                                                                                                                                   n_estimators=10,\n                                                                                                                                   n_jobs=1,\n                                                                                                                                   oob_score=True,\n                                                                                                                                   random_state=None,\n                                                                                                                                   verbose=0,\n                                                                                                                                   warm_start=False))],\n                                                                                                      verbose=False))],\n                                                                                flatten_transform=None,\n                                                                                weights=[0.125,\n                                                                                         0.125,\n                                                                                         0.125,\n                                                                                         0.125,\n                                                                                         0.25,\n                                                                                         0.125,\n                                                                                         0.125]))],\n                                       'verbose': False},\n                             y_transformer={},\n                             y_transformer_name='LabelEncoder')"
          },
          "metadata": {}
        }
      ],
      "execution_count": 14,
      "metadata": {
        "collapsed": true,
        "jupyter": {
          "source_hidden": false,
          "outputs_hidden": false
        },
        "nteract": {
          "transient": {
            "deleting": false
          }
        },
        "gather": {
          "logged": 1616746791745
        }
      }
    },
    {
      "cell_type": "code",
      "source": [
        "metrics = best_run.get_metrics()\n",
        "metrics['accuracy']"
      ],
      "outputs": [
        {
          "output_type": "execute_result",
          "execution_count": 15,
          "data": {
            "text/plain": "0.9806077694235589"
          },
          "metadata": {}
        }
      ],
      "execution_count": 15,
      "metadata": {
        "collapsed": true,
        "jupyter": {
          "source_hidden": false,
          "outputs_hidden": false
        },
        "nteract": {
          "transient": {
            "deleting": false
          }
        },
        "gather": {
          "logged": 1616746826589
        }
      }
    },
    {
      "cell_type": "code",
      "source": [
        "#TODO: Save the best model\n",
        "import joblib\n",
        "from azureml.core.model import Model\n",
        "\n",
        "description = \"Best-fit AutoML model trained on Wisoconsin Breast Cancer dataset\"\n",
        "\n",
        "os.makedirs('outputs', exist_ok=True)\n",
        "joblib.dump(best_model, filename=\"outputs/automl-model.pkl\")\n",
        "automl_model = remote_run.register_model(model_name='automl-breastcancer', description=description)"
      ],
      "outputs": [],
      "execution_count": 16,
      "metadata": {
        "gather": {
          "logged": 1616746911237
        },
        "jupyter": {
          "outputs_hidden": false,
          "source_hidden": false
        },
        "nteract": {
          "transient": {
            "deleting": false
          }
        }
      }
    },
    {
      "cell_type": "markdown",
      "source": [
        "## Model Deployment\n",
        "\n",
        "Remember you have to deploy only one of the two models you trained.. Perform the steps in the rest of this notebook only if you wish to deploy this model.\n",
        "\n",
        "TODO: In the cell below, register the model, create an inference config and deploy the model as a web service."
      ],
      "metadata": {}
    },
    {
      "cell_type": "code",
      "source": [
        "from azureml.core.webservice import AciWebservice\n",
        "\n",
        "aci_config = AciWebservice.deploy_configuration(\n",
        "    cpu_cores=1,\n",
        "    memory_gb=1,\n",
        "    description='Predict tumor diagnosis - Malignant(1) or Benign(0)',\n",
        "    auth_enabled=True\n",
        ")"
      ],
      "outputs": [],
      "execution_count": 19,
      "metadata": {
        "gather": {
          "logged": 1616747247716
        },
        "jupyter": {
          "outputs_hidden": false,
          "source_hidden": false
        },
        "nteract": {
          "transient": {
            "deleting": false
          }
        }
      }
    },
    {
      "cell_type": "code",
      "source": [
        "from azureml.core.webservice import Webservice\n",
        "from azureml.core.model import InferenceConfig\n",
        "from azureml.core.environment import Environment\n",
        "from azureml.core import Workspace\n",
        "from azureml.core.model import Model\n",
        "from azureml.automl.core.shared import constants\n",
        "\n",
        "model = Model(ws, 'automl-breastcancer')\n",
        "\n",
        "\n",
        "myenv = best_run.get_environment()\n",
        "entry_script = 'predict.py'\n",
        "#best_run.download_file('outputs/scoring_file_v_1_0_0.py', entry_script)\n",
        "#best_run.download_file(constants.CONDA_ENV_FILE_PATH, 'myenv.yml')\n",
        "inference_config = InferenceConfig(entry_script=entry_script, environment=myenv)\n",
        "\n",
        "service = Model.deploy(workspace=ws, \n",
        "                       name='automl-breastcancer', \n",
        "                       models=[model], \n",
        "                       inference_config=inference_config, \n",
        "                       deployment_config=aci_config)\n",
        "\n",
        "service.wait_for_deployment(show_output=True)"
      ],
      "outputs": [],
      "execution_count": null,
      "metadata": {
        "collapsed": true,
        "jupyter": {
          "source_hidden": false,
          "outputs_hidden": false
        },
        "nteract": {
          "transient": {
            "deleting": false
          }
        }
      }
    },
    {
      "cell_type": "code",
      "source": [
        "service.update(enable_app_insights=True)"
      ],
      "outputs": [],
      "execution_count": null,
      "metadata": {
        "collapsed": true,
        "jupyter": {
          "source_hidden": false,
          "outputs_hidden": false
        },
        "nteract": {
          "transient": {
            "deleting": false
          }
        }
      }
    },
    {
      "cell_type": "code",
      "source": [
        "print(\"State \"+ service.state)\n",
        "print(\"Key \" + service.get_keys()[0])\n",
        "print(\"Swagger URI \" + service.swagger_uri)\n",
        "print(\"Scoring URI \" + service.scoring_uri)"
      ],
      "outputs": [],
      "execution_count": null,
      "metadata": {
        "collapsed": true,
        "jupyter": {
          "source_hidden": false,
          "outputs_hidden": false
        },
        "nteract": {
          "transient": {
            "deleting": false
          }
        }
      }
    },
    {
      "cell_type": "markdown",
      "source": [
        "TODO: In the cell below, send a request to the web service you deployed to test it."
      ],
      "metadata": {
        "collapsed": true,
        "gather": {
          "logged": 1598431657736
        },
        "jupyter": {
          "outputs_hidden": false,
          "source_hidden": false
        },
        "nteract": {
          "transient": {
            "deleting": false
          }
        }
      }
    },
    {
      "cell_type": "code",
      "source": [
        "# Model endpoint is consumed using a script which contains 2 datapoints\n",
        "# Expected result [0, 1]\n",
        "%run endpoint.py"
      ],
      "outputs": [],
      "execution_count": null,
      "metadata": {
        "gather": {
          "logged": 1598432707604
        },
        "jupyter": {
          "outputs_hidden": false,
          "source_hidden": false
        },
        "nteract": {
          "transient": {
            "deleting": false
          }
        }
      }
    },
    {
      "cell_type": "markdown",
      "source": [
        "TODO: In the cell below, print the logs of the web service and delete the service"
      ],
      "metadata": {
        "collapsed": true,
        "gather": {
          "logged": 1598432765711
        },
        "jupyter": {
          "outputs_hidden": false,
          "source_hidden": false
        },
        "nteract": {
          "transient": {
            "deleting": false
          }
        }
      }
    },
    {
      "cell_type": "code",
      "source": [
        "print(service.get_logs())"
      ],
      "outputs": [],
      "execution_count": null,
      "metadata": {
        "jupyter": {
          "outputs_hidden": false,
          "source_hidden": false
        },
        "nteract": {
          "transient": {
            "deleting": false
          }
        }
      }
    }
  ],
  "metadata": {
    "kernel_info": {
      "name": "python3"
    },
    "kernelspec": {
      "name": "python3",
      "language": "python",
      "display_name": "Python 3"
    },
    "language_info": {
      "name": "python",
      "version": "3.6.9",
      "mimetype": "text/x-python",
      "codemirror_mode": {
        "name": "ipython",
        "version": 3
      },
      "pygments_lexer": "ipython3",
      "nbconvert_exporter": "python",
      "file_extension": ".py"
    },
    "nteract": {
      "version": "nteract-front-end@1.0.0"
    },
    "microsoft": {
      "host": {
        "AzureML": {
          "notebookHasBeenCompleted": true
        }
      }
    }
  },
  "nbformat": 4,
  "nbformat_minor": 2
}